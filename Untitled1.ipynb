{
 "cells": [
  {
   "cell_type": "code",
   "execution_count": 1,
   "metadata": {
    "collapsed": true
   },
   "outputs": [],
   "source": [
    "import pandas as pd\n",
    "import pymongo"
   ]
  },
  {
   "cell_type": "code",
   "execution_count": 33,
   "metadata": {
    "collapsed": false
   },
   "outputs": [],
   "source": [
    "test = pd.read_csv('test.csv',index_col='_id')"
   ]
  },
  {
   "cell_type": "code",
   "execution_count": 34,
   "metadata": {
    "collapsed": false
   },
   "outputs": [
    {
     "data": {
      "text/plain": [
       "movie title                         Contempt (Mépris, Le) (1963)\n",
       "director                                     [“Jean-Luc Godard”]\n",
       "creator          [\"All3Media America\",\"Maverick Television USA\"]\n",
       "actor_list     [\"Chase Chrisley\",\"Julie Chrisley\",\"Todd Chris...\n",
       "Name: tt3688530, dtype: object"
      ]
     },
     "execution_count": 34,
     "metadata": {},
     "output_type": "execute_result"
    }
   ],
   "source": [
    "test.loc['tt3688530']"
   ]
  },
  {
   "cell_type": "code",
   "execution_count": 7,
   "metadata": {
    "collapsed": true
   },
   "outputs": [],
   "source": [
    "client = pymongo.MongoClient()\n",
    "db = client.test_database\n",
    "coll = db.test_collection"
   ]
  },
  {
   "cell_type": "code",
   "execution_count": 38,
   "metadata": {
    "collapsed": false
   },
   "outputs": [
    {
     "name": "stdout",
     "output_type": "stream",
     "text": [
      "15\n"
     ]
    }
   ],
   "source": [
    "print coll.find({'director' : \"[]\"}).count()"
   ]
  },
  {
   "cell_type": "code",
   "execution_count": 35,
   "metadata": {
    "collapsed": false
   },
   "outputs": [
    {
     "name": "stdout",
     "output_type": "stream",
     "text": [
      "{u'IMDb URL': u'http://us.imdb.com/M/title-exact?Fugitive,%20The%20(1993)',\n",
      " u'_id': u'tt1941928',\n",
      " u'actor_list': [u'N\\xe9stor Cantillana',\n",
      "                 u'Benjam\\xedn Vicu\\xf1a',\n",
      "                 u'Luis Gnecco',\n",
      "                 u'Camila Hirane',\n",
      "                 u'Blanca Lewin'],\n",
      " u'creator': [u'Efetres', u'Fabula', u'Home Box Office Ole Originals (HBO)'],\n",
      " u'director': u'[]',\n",
      " u'genre': [u' Action', u' Crime', u' Drama', u' Thriller'],\n",
      " u'movie id': 79,\n",
      " u'movie title': u'Fugitive, The (1993)',\n",
      " u'release_date': u'2013-11-14'}\n",
      "{u'IMDb URL': u'http://us.imdb.com/M/title-exact?M%E9pris%2C+Le+(1963)',\n",
      " u'_id': u'tt3688530',\n",
      " u'actor_list': [u'Chase Chrisley',\n",
      "                 u'Julie Chrisley',\n",
      "                 u'Todd Chrisley',\n",
      "                 u'Savannah Chrisley'],\n",
      " u'creator': [u'All3Media America', u'Maverick Television USA'],\n",
      " u'director': u'[\\u201cJean-Luc Godard\\u201d]',\n",
      " u'genre': [u' Reality-TV'],\n",
      " u'movie id': 1252,\n",
      " u'movie title': u'Contempt (M\\xe9pris, Le) (1963)',\n",
      " u'release_date': u'2016-06-11'}\n",
      "{u'IMDb URL': u'http://us.imdb.com/M/title-exact?Pie%20in%20the%20Sky%20(1995)',\n",
      " u'_id': u'tt0106102',\n",
      " u'actor_list': [u'Richard Griffiths',\n",
      "                 u'Maggie Steed',\n",
      "                 u'Malcolm Sinclair',\n",
      "                 u'Nick Raggett',\n",
      "                 u'Bella Enahoro'],\n",
      " u'creator': [u'Andrew Payne',\n",
      "              u'British Broadcasting Corporation (BBC)',\n",
      "              u'Nicework',\n",
      "              u'SelecTV'],\n",
      " u'director': u'[]',\n",
      " u'genre': [u' Comedy', u' Crime', u' Drama'],\n",
      " u'movie id': 1259,\n",
      " u'movie title': u'Pie in the Sky (1995)',\n",
      " u'release_date': u'2011-04-11'}\n",
      "{u'IMDb URL': u'http://us.imdb.com/M/title-exact?Jack%20and%20Sarah%20(1995)',\n",
      " u'_id': u'tt3679052',\n",
      " u'actor_list': [u'Jack McAllen', u'Sarah McAllen'],\n",
      " u'creator': [u'Vitaphone Corporation, The', u'Warner Bros.'],\n",
      " u'director': u'[]',\n",
      " u'genre': [u' Short', u' Music'],\n",
      " u'movie id': 1289,\n",
      " u'movie title': u'Jack and Sarah (1995)',\n",
      " u'release_date': u'1930-02'}\n",
      "{u'IMDb URL': u'http://us.imdb.com/M/title-exact?Getaway,%20The%20(1994)',\n",
      " u'_id': u'tt3205802',\n",
      " u'actor_list': [u'Viola Davis',\n",
      "                 u'Billy Brown',\n",
      "                 u'Alfred Enoch',\n",
      "                 u'Jack Falahee',\n",
      "                 u'Aja Naomi King'],\n",
      " u'creator': [u'Peter Nowalk',\n",
      "              u'ShondaLand',\n",
      "              u'Nowalk Entertainment',\n",
      "              u'ABC Studios'],\n",
      " u'director': u'[]',\n",
      " u'genre': [u' Crime', u' Drama', u' Mystery', u' Thriller'],\n",
      " u'movie id': 1303,\n",
      " u'movie title': u'Getaway, The (1994)',\n",
      " u'release_date': u'2015-10-04'}\n",
      "{u'IMDb URL': u'http://us.imdb.com/M/title-exact?imdb-title-119195',\n",
      " u'_id': u'tt0568382',\n",
      " u'actor_list': [u'Henny Backus',\n",
      "                 u'Jim Backus',\n",
      "                 u'Bob Denver',\n",
      "                 u'Dreama Perry Denver',\n",
      "                 u'John Gabriel'],\n",
      " u'creator': [u'Paramount Domestic Television'],\n",
      " u'director': u'[]',\n",
      " u'genre': [u' Documentary'],\n",
      " u'movie id': 1420,\n",
      " u'movie title': u\"Gilligan's Island: The Movie (1998)\",\n",
      " u'release_date': u'2003-07-13'}\n",
      "{u'IMDb URL': u'http://us.imdb.com/M/title-exact?Walking%20Dead,%20The%20(1995)',\n",
      " u'_id': u'tt1520211',\n",
      " u'actor_list': [u'Andrew Lincoln',\n",
      "                 u'Chandler Riggs',\n",
      "                 u'Norman Reedus',\n",
      "                 u'Melissa McBride',\n",
      "                 u'Lauren Cohan'],\n",
      " u'creator': [u'Frank Darabont',\n",
      "              u'American Movie Classics (AMC)',\n",
      "              u'Circle of Confusion',\n",
      "              u'Valhalla Motion Pictures'],\n",
      " u'director': u'[]',\n",
      " u'genre': [u' Drama', u' Horror', u' Thriller'],\n",
      " u'movie id': 1423,\n",
      " u'movie title': u'Walking Dead, The (1995)',\n",
      " u'release_date': u'2011-08-07'}\n",
      "{u'IMDb URL': u'http://us.imdb.com/M/title-exact?Fear,%20The%20(1995)',\n",
      " u'_id': u'tt3743822',\n",
      " u'actor_list': [u'Kim Dickens',\n",
      "                 u'Cliff Curtis',\n",
      "                 u'Frank Dillane',\n",
      "                 u'Alycia Debnam-Carey',\n",
      "                 u'Mercedes Mason'],\n",
      " u'creator': [u'Dave Erickson',\n",
      "              u'Robert Kirkman',\n",
      "              u'Circle of Confusion',\n",
      "              u'Skybound Entertainment',\n",
      "              u'Valhalla Entertainment'],\n",
      " u'director': u'[]',\n",
      " u'genre': [u' Drama', u' Horror', u' Sci-Fi', u' Thriller'],\n",
      " u'movie id': 1520,\n",
      " u'movie title': u'Fear, The (1995)',\n",
      " u'release_date': u'2015-09-30'}\n",
      "{u'IMDb URL': u'http://us.imdb.com/M/title-exact?Aiqing%20Wansui%20(1994)',\n",
      " u'_id': u'tt5457934',\n",
      " u'actor_list': [u'Han Wang'],\n",
      " u'creator': [],\n",
      " u'director': u'[]',\n",
      " u'genre': [u' Game-Show', u' Talk-Show'],\n",
      " u'movie id': 1536,\n",
      " u'movie title': u'Aiqing wansui (1994)',\n",
      " u'release_date': u'2011-02-04'}\n",
      "{u'IMDb URL': u'http://us.imdb.com/M/title-exact?Being%20Human%20(1993)',\n",
      " u'_id': u'tt1595680',\n",
      " u'actor_list': [u'Sam Witwer',\n",
      "                 u'Meaghan Rath',\n",
      "                 u'Sam Huntington',\n",
      "                 u'Kristen Hager'],\n",
      " u'creator': [u'Jeremy Carver',\n",
      "              u'Anna Fricke',\n",
      "              u'Muse Entertainment Enterprises',\n",
      "              u'Zodiak USA',\n",
      "              u'Quebec Film and Television Tax Credit'],\n",
      " u'director': u'[]',\n",
      " u'genre': [u' Drama', u' Fantasy', u' Horror'],\n",
      " u'movie id': 1539,\n",
      " u'movie title': u'Being Human (1993)',\n",
      " u'release_date': u'2011-02-16'}\n",
      "{u'IMDb URL': u'http://us.imdb.com/M/title-exact?Show,%20The%20(1995)',\n",
      " u'_id': u'tt0165598',\n",
      " u'actor_list': [u'Mila Kunis',\n",
      "                 u'Danny Masterson',\n",
      "                 u'Laura Prepon',\n",
      "                 u'Wilmer Valderrama',\n",
      "                 u'Debra Jo Rupp'],\n",
      " u'creator': [u'Mark Brazill',\n",
      "              u'Bonnie Turner',\n",
      "              u'Terry Turner',\n",
      "              u'Carsey-Werner-Mandabach Productions',\n",
      "              u'20th Century Fox Television',\n",
      "              u'Carsey-Werner Company'],\n",
      " u'director': u'[]',\n",
      " u'genre': [u' Comedy', u' Romance'],\n",
      " u'movie id': 1547,\n",
      " u'movie title': u'Show, The (1995)',\n",
      " u'release_date': u'2000-10-01'}\n",
      "{u'IMDb URL': u'http://us.imdb.com/M/title-exact?Hunted,%20The%20(1995)',\n",
      " u'_id': u'tt6340730',\n",
      " u'actor_list': [u'Michael Rosenbaum'],\n",
      " u'creator': [u'Lock and Key Productions'],\n",
      " u'director': u'[]',\n",
      " u'genre': [u' Reality-TV'],\n",
      " u'movie id': 1552,\n",
      " u'movie title': u'Hunted, The (1995)',\n",
      " u'release_date': u'2017-02-03'}\n",
      "{u'IMDb URL': u'http://us.imdb.com/M/title-exact?Symphonie%20pastorale,%20La%20(1946)',\n",
      " u'_id': u'tt3697948',\n",
      " u'actor_list': [u'John Kirkbride',\n",
      "                 u'Beryl Marshall',\n",
      "                 u'Wyn Roberts',\n",
      "                 u'Maree Tomasetti'],\n",
      " u'creator': [u'Andr\\xe9 Gide', u'Australian Broadcasting Corporation (ABC)'],\n",
      " u'director': u'[]',\n",
      " u'genre': [u' Drama'],\n",
      " u'movie id': 1584,\n",
      " u'movie title': u'Symphonie pastorale, La (1946)',\n",
      " u'release_date': u'1958-03-12'}\n",
      "{u'IMDb URL': u'http://us.imdb.com/Title?Wife,+The+(1995)',\n",
      " u'_id': u'tt0112126',\n",
      " u'actor_list': [u'Juliet Stevenson',\n",
      "                 u'Trevor Eve',\n",
      "                 u'Ian Bannen',\n",
      "                 u'Anton Lesser',\n",
      "                 u'David Auker'],\n",
      " u'creator': [u'Channel 4 Television Corporation'],\n",
      " u'director': u'[]',\n",
      " u'genre': [u' Drama'],\n",
      " u'movie id': 1627,\n",
      " u'movie title': u'Wife, The (1995)',\n",
      " u'release_date': u'2013-08-20'}\n",
      "{u'IMDb URL': u'http://us.imdb.com/M/title-exact?Next%20Step%2C%20The%20%281995%29',\n",
      " u'_id': u'tt2374744',\n",
      " u'actor_list': [u'Brittany Raymond',\n",
      "                 u'Victoria Baldesarra',\n",
      "                 u'Trevor Tordjman',\n",
      "                 u'Isaac Lupien',\n",
      "                 u'Lamar Johnson'],\n",
      " u'creator': [u'Frank van Keeken', u'Temple Street Productions'],\n",
      " u'director': u'[]',\n",
      " u'genre': [u' Drama', u' Family', u' Romance'],\n",
      " u'movie id': 1667,\n",
      " u'movie title': u'Next Step, The (1995)',\n",
      " u'release_date': u'2013-09-27'}\n",
      "{u'IMDb URL': u'http://us.imdb.com/M/title-exact?War%20at%20Home%2C%20The%20%281996%29',\n",
      " u'_id': u'tt0460692',\n",
      " u'actor_list': [u'Michael Rapaport',\n",
      "                 u'Anita Barone',\n",
      "                 u'Kaylee DeFer',\n",
      "                 u'Kyle Sullivan',\n",
      "                 u'Dean Collins'],\n",
      " u'creator': [u'Rob Lotterstein',\n",
      "              u'Rob Lotterstein Productions',\n",
      "              u'Acme Productions',\n",
      "              u'Warner Bros. Television'],\n",
      " u'director': u'[]',\n",
      " u'genre': [u' Comedy', u' Romance'],\n",
      " u'movie id': 1676,\n",
      " u'movie title': u'War at Home, The (1996)',\n",
      " u'release_date': u'2005-09-11'}\n"
     ]
    }
   ],
   "source": [
    "for doc in docs:\n",
    "    new_doc = coll.find_one_and_update({'_id':doc['_id']},{'$set':{'director':test.loc[doc['_id'],'director']}},return_document=pymongo.ReturnDocument.AFTER)\n",
    "    pprint.pprint(new_doc)"
   ]
  },
  {
   "cell_type": "code",
   "execution_count": 22,
   "metadata": {
    "collapsed": false
   },
   "outputs": [
    {
     "name": "stdout",
     "output_type": "stream",
     "text": [
      "36\n"
     ]
    }
   ],
   "source": []
  },
  {
   "cell_type": "code",
   "execution_count": 37,
   "metadata": {
    "collapsed": false
   },
   "outputs": [
    {
     "name": "stdout",
     "output_type": "stream",
     "text": [
      "{u'IMDb URL': u'http://us.imdb.com/M/title-exact?Pie%20in%20the%20Sky%20(1995)',\n",
      " u'_id': u'tt0106102',\n",
      " u'actor_list': [u'Richard Griffiths',\n",
      "                 u'Maggie Steed',\n",
      "                 u'Malcolm Sinclair',\n",
      "                 u'Nick Raggett',\n",
      "                 u'Bella Enahoro'],\n",
      " u'creator': [u'Andrew Payne',\n",
      "              u'British Broadcasting Corporation (BBC)',\n",
      "              u'Nicework',\n",
      "              u'SelecTV'],\n",
      " u'director': u'[]',\n",
      " u'genre': [u' Comedy', u' Crime', u' Drama'],\n",
      " u'movie id': 1259,\n",
      " u'movie title': u'Pie in the Sky (1995)',\n",
      " u'release_date': u'2011-04-11'}\n"
     ]
    }
   ],
   "source": [
    "doc = coll.find_one({'_id':'tt0106102'})\n",
    "pprint.pprint(doc)"
   ]
  },
  {
   "cell_type": "code",
   "execution_count": null,
   "metadata": {
    "collapsed": true
   },
   "outputs": [],
   "source": []
  }
 ],
 "metadata": {
  "anaconda-cloud": {},
  "kernelspec": {
   "display_name": "Python [conda env:gl-env]",
   "language": "python",
   "name": "conda-env-gl-env-py"
  },
  "language_info": {
   "codemirror_mode": {
    "name": "ipython",
    "version": 2
   },
   "file_extension": ".py",
   "mimetype": "text/x-python",
   "name": "python",
   "nbconvert_exporter": "python",
   "pygments_lexer": "ipython2",
   "version": "2.7.11"
  }
 },
 "nbformat": 4,
 "nbformat_minor": 1
}
