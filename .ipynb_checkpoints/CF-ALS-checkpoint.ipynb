{
 "cells": [
  {
   "cell_type": "code",
   "execution_count": 1,
   "metadata": {
    "collapsed": true
   },
   "outputs": [],
   "source": [
    "import pandas as pd\n",
    "import numpy as np\n",
    "import matplotlib.pyplot as plt"
   ]
  },
  {
   "cell_type": "code",
   "execution_count": 2,
   "metadata": {
    "collapsed": false
   },
   "outputs": [],
   "source": [
    "ratings = pd.read_csv('ml-100k/u1.base1')"
   ]
  },
  {
   "cell_type": "code",
   "execution_count": 3,
   "metadata": {
    "collapsed": false
   },
   "outputs": [],
   "source": [
    "Q = ratings.loc[:,str(1):].values"
   ]
  },
  {
   "cell_type": "code",
   "execution_count": 23,
   "metadata": {
    "collapsed": false
   },
   "outputs": [
    {
     "data": {
      "text/plain": [
       "(943, 1647)"
      ]
     },
     "execution_count": 23,
     "metadata": {},
     "output_type": "execute_result"
    }
   ],
   "source": [
    "Q.shape"
   ]
  },
  {
   "cell_type": "code",
   "execution_count": 4,
   "metadata": {
    "collapsed": false
   },
   "outputs": [],
   "source": [
    "W = Q>0.5\n",
    "W[W == True] = 1\n",
    "W[W == False] = 0\n",
    "W = W.astype(np.float64,copy = False)"
   ]
  },
  {
   "cell_type": "code",
   "execution_count": 5,
   "metadata": {
    "collapsed": false
   },
   "outputs": [
    {
     "data": {
      "text/plain": [
       "array([[ 1.,  1.,  1., ...,  0.,  0.,  0.],\n",
       "       [ 1.,  0.,  0., ...,  0.,  0.,  0.],\n",
       "       [ 0.,  0.,  0., ...,  0.,  0.,  0.],\n",
       "       ..., \n",
       "       [ 1.,  0.,  0., ...,  0.,  0.,  0.],\n",
       "       [ 0.,  0.,  0., ...,  0.,  0.,  0.],\n",
       "       [ 0.,  1.,  0., ...,  0.,  0.,  0.]])"
      ]
     },
     "execution_count": 5,
     "metadata": {},
     "output_type": "execute_result"
    }
   ],
   "source": [
    "W"
   ]
  },
  {
   "cell_type": "code",
   "execution_count": 6,
   "metadata": {
    "collapsed": true
   },
   "outputs": [],
   "source": [
    "lambda_ = 0.1\n",
    "n_factors = 100\n",
    "m, n = Q.shape\n",
    "n_iterations = 20"
   ]
  },
  {
   "cell_type": "code",
   "execution_count": 7,
   "metadata": {
    "collapsed": true
   },
   "outputs": [],
   "source": [
    "X = 5 * np.random.rand(m, n_factors) \n",
    "Y = 5 * np.random.rand(n_factors, n)"
   ]
  },
  {
   "cell_type": "code",
   "execution_count": 8,
   "metadata": {
    "collapsed": false
   },
   "outputs": [
    {
     "data": {
      "text/plain": [
       "array([[ 3.46334553,  4.51464148,  1.39542207, ...,  2.91221694,\n",
       "         1.56451468,  2.33180538],\n",
       "       [ 0.64380007,  1.173456  ,  0.977965  , ...,  2.41441636,\n",
       "         2.36047258,  2.45562966],\n",
       "       [ 2.56542047,  4.63934136,  0.59163752, ...,  0.63836893,\n",
       "         0.95882731,  1.80353814],\n",
       "       ..., \n",
       "       [ 1.97625505,  3.48382944,  4.8099562 , ...,  1.96127595,\n",
       "         4.1760083 ,  4.71834419],\n",
       "       [ 1.00624982,  2.06081505,  2.35754665, ...,  2.54919578,\n",
       "         2.68422614,  1.09079242],\n",
       "       [ 2.39961871,  1.77564619,  4.53342226, ...,  0.16215704,\n",
       "         1.77536696,  2.73714705]])"
      ]
     },
     "execution_count": 8,
     "metadata": {},
     "output_type": "execute_result"
    }
   ],
   "source": [
    "Y"
   ]
  },
  {
   "cell_type": "code",
   "execution_count": 9,
   "metadata": {
    "collapsed": true
   },
   "outputs": [],
   "source": [
    "def get_error(Q, X, Y, W):\n",
    "    return np.sum((W * (Q - np.dot(X, Y)))**2)"
   ]
  },
  {
   "cell_type": "code",
   "execution_count": 10,
   "metadata": {
    "collapsed": false
   },
   "outputs": [
    {
     "name": "stdout",
     "output_type": "stream",
     "text": [
      "0th iteration is completed\n",
      "Error of rated movies: 209415.07964\n"
     ]
    }
   ],
   "source": [
    "errors = []\n",
    "for ii in range(n_iterations):\n",
    "    X = np.linalg.solve(np.dot(Y, Y.T) + lambda_ * np.eye(n_factors), \n",
    "                        np.dot(Y, Q.T)).T\n",
    "    Y = np.linalg.solve(np.dot(X.T, X) + lambda_ * np.eye(n_factors),\n",
    "                        np.dot(X.T, Q))\n",
    "    if ii % 100 == 0:\n",
    "        print('{}th iteration is completed'.format(ii))\n",
    "    errors.append(get_error(Q, X, Y, W))\n",
    "Q_hat = np.dot(X, Y)\n",
    "print('Error of rated movies: {}'.format(get_error(Q, X, Y, W)))"
   ]
  },
  {
   "cell_type": "code",
   "execution_count": 16,
   "metadata": {
    "collapsed": false
   },
   "outputs": [
    {
     "data": {
      "text/plain": [
       "array([[ 0.11476402,  0.00781346, -0.06046303, ..., -0.04144   ,\n",
       "         0.11461561, -0.0521411 ],\n",
       "       [-0.05630217, -0.02989461, -0.10195431, ...,  0.00537277,\n",
       "        -0.00675389,  0.00814634],\n",
       "       [-0.00634976,  0.02434037,  0.06018177, ..., -0.02137126,\n",
       "        -0.00876129, -0.00158172],\n",
       "       ..., \n",
       "       [ 0.02055426, -0.00690503, -0.01821695, ...,  0.03087826,\n",
       "        -0.02322267, -0.00107538],\n",
       "       [-0.17470561,  0.08548969,  0.0736359 , ...,  0.11072766,\n",
       "        -0.07550235, -0.08909467],\n",
       "       [ 0.00957298, -0.09030323,  0.0728976 , ...,  0.02868151,\n",
       "         0.13181728,  0.02444436]])"
      ]
     },
     "execution_count": 16,
     "metadata": {},
     "output_type": "execute_result"
    }
   ],
   "source": []
  },
  {
   "cell_type": "code",
   "execution_count": 44,
   "metadata": {
    "collapsed": false
   },
   "outputs": [
    {
     "name": "stdout",
     "output_type": "stream",
     "text": [
      "[414547.08194108127, 260266.3152262728, 237925.49577949339, 228707.45023148195, 223656.98967653877, 220452.79469097301, 218222.61063524144, 216567.04509585304, 215279.83236572772, 214244.33526833088, 213389.56430274723, 212669.64235362646, 212053.43756790378, 211518.97338195104, 211050.23710560412, 210635.26037611108, 210264.90810211751, 209932.08167514423, 209631.17628266593, 209357.70119444866]\n"
     ]
    },
    {
     "data": {
      "text/plain": [
       "[<matplotlib.lines.Line2D at 0x7ff3b1f21790>]"
      ]
     },
     "execution_count": 44,
     "metadata": {},
     "output_type": "execute_result"
    },
    {
     "data": {
      "image/png": "[encoded data removed]",
      "text/plain": [
       "<matplotlib.figure.Figure at 0x7ff3b3cd00d0>"
      ]
     },
     "metadata": {},
     "output_type": "display_data"
    }
   ],
   "source": [
    "%matplotlib inline\n",
    "print errors\n",
    "plt.plot(errors);\n",
    "#plt.ylim([0, 20000]);"
   ]
  },
  {
   "cell_type": "code",
   "execution_count": 45,
   "metadata": {
    "collapsed": false
   },
   "outputs": [
    {
     "name": "stdout",
     "output_type": "stream",
     "text": [
      "0th iteration is completed\n",
      "1th iteration is completed\n",
      "2th iteration is completed\n",
      "3th iteration is completed\n",
      "4th iteration is completed\n",
      "5th iteration is completed\n",
      "6th iteration is completed\n",
      "7th iteration is completed\n",
      "8th iteration is completed\n",
      "9th iteration is completed\n",
      "10th iteration is completed\n",
      "11th iteration is completed\n",
      "12th iteration is completed\n",
      "13th iteration is completed\n",
      "14th iteration is completed\n",
      "15th iteration is completed\n",
      "16th iteration is completed\n",
      "17th iteration is completed\n",
      "18th iteration is completed\n",
      "19th iteration is completed\n"
     ]
    }
   ],
   "source": [
    "weighted_errors = []\n",
    "for ii in range(n_iterations):\n",
    "    for u, Wu in enumerate(W):\n",
    "        X[u] = np.linalg.solve(np.dot(Y, np.dot(np.diag(Wu), Y.T)) + lambda_ * np.eye(n_factors),\n",
    "                               np.dot(Y, np.dot(np.diag(Wu), Q[u].T))).T\n",
    "    for i, Wi in enumerate(W.T):\n",
    "        Y[:,i] = np.linalg.solve(np.dot(X.T, np.dot(np.diag(Wi), X)) + lambda_ * np.eye(n_factors),\n",
    "                                 np.dot(X.T, np.dot(np.diag(Wi), Q[:, i])))\n",
    "    weighted_errors.append(get_error(Q, X, Y, W))\n",
    "    print('{}th iteration is completed'.format(ii))\n",
    "weighted_Q_hat = np.dot(X,Y)"
   ]
  },
  {
   "cell_type": "code",
   "execution_count": 20,
   "metadata": {
    "collapsed": false
   },
   "outputs": [
    {
     "data": {
      "text/plain": [
       "(943, 1647)"
      ]
     },
     "execution_count": 20,
     "metadata": {},
     "output_type": "execute_result"
    }
   ],
   "source": [
    "(W).shape"
   ]
  },
  {
   "cell_type": "code",
   "execution_count": 47,
   "metadata": {
    "collapsed": false
   },
   "outputs": [
    {
     "data": {
      "image/png": "[encoded data removed]",
      "text/plain": [
       "<matplotlib.figure.Figure at 0x7ff3b3f94e10>"
      ]
     },
     "metadata": {},
     "output_type": "display_data"
    }
   ],
   "source": [
    "%matplotlib inline\n",
    "plt.plot(weighted_errors);\n",
    "plt.xlabel('Iteration Number');\n",
    "plt.ylabel('Mean Squared Error');"
   ]
  },
  {
   "cell_type": "code",
   "execution_count": 23,
   "metadata": {
    "collapsed": false
   },
   "outputs": [],
   "source": [
    "def print_recommendations(W=W, Q=Q, Q_hat=Q_hat, movie_titles=movie_titles):\n",
    "    #Q_hat -= np.min(Q_hat)\n",
    "    #Q_hat[Q_hat < 1] *= 5\n",
    "    Q_hat -= np.min(Q_hat)\n",
    "    Q_hat *= float(5) / np.max(Q_hat)\n",
    "    movie_ids = np.argmax(Q_hat - 5 * W, axis=1)\n",
    "    for jj, movie_id in zip(range(m), movie_ids):\n",
    "        #if Q_hat[jj, movie_id] < 0.1: continue\n",
    "        print('User {} liked {}\\n'.format(jj + 1, ', '.join([movie_titles[ii] for ii, qq in enumerate(Q[jj]) if qq > 3])))\n",
    "        print('User {} did not like {}\\n'.format(jj + 1, ', '.join([movie_titles[ii] for ii, qq in enumerate(Q[jj]) if qq < 3 and qq != 0])))\n",
    "        print('\\n User {} recommended movie is {} - with predicted rating: {}'.format(\n",
    "                    jj + 1, movie_titles[movie_id], Q_hat[jj, movie_id]))\n",
    "\n",
    "        print('\\n' + 100 *  '-' + '\\n')\n",
    "#print_recommendations()\n",
    "\n"
   ]
  },
  {
   "cell_type": "code",
   "execution_count": 24,
   "metadata": {
    "collapsed": false
   },
   "outputs": [],
   "source": [
    "movie_data = pd.read_csv('test.csv')\n",
    "movie_titles = movie_data['_id'].tolist()"
   ]
  },
  {
   "cell_type": "code",
   "execution_count": 25,
   "metadata": {
    "collapsed": false
   },
   "outputs": [
    {
     "ename": "NameError",
     "evalue": "name 'weighted_Q_hat' is not defined",
     "output_type": "error",
     "traceback": [
      "\u001b[1;31m---------------------------------------------------------------------------\u001b[0m",
      "\u001b[1;31mNameError\u001b[0m                                 Traceback (most recent call last)",
      "\u001b[1;32m<ipython-input-25-f283e0caca9c>\u001b[0m in \u001b[0;36m<module>\u001b[1;34m()\u001b[0m\n\u001b[1;32m----> 1\u001b[1;33m \u001b[0mprint_recommendations\u001b[0m\u001b[1;33m(\u001b[0m\u001b[0mQ_hat\u001b[0m\u001b[1;33m=\u001b[0m\u001b[0mweighted_Q_hat\u001b[0m\u001b[1;33m)\u001b[0m\u001b[1;33m\u001b[0m\u001b[0m\n\u001b[0m",
      "\u001b[1;31mNameError\u001b[0m: name 'weighted_Q_hat' is not defined"
     ]
    }
   ],
   "source": [
    "print_recommendations(Q_hat=weighted_Q_hat)"
   ]
  },
  {
   "cell_type": "code",
   "execution_count": null,
   "metadata": {
    "collapsed": true
   },
   "outputs": [],
   "source": []
  }
 ],
 "metadata": {
  "anaconda-cloud": {},
  "kernelspec": {
   "display_name": "Python [conda env:gl-env]",
   "language": "python",
   "name": "conda-env-gl-env-py"
  },
  "language_info": {
   "codemirror_mode": {
    "name": "ipython",
    "version": 2
   },
   "file_extension": ".py",
   "mimetype": "text/x-python",
   "name": "python",
   "nbconvert_exporter": "python",
   "pygments_lexer": "ipython2",
   "version": "2.7.11"
  }
 },
 "nbformat": 4,
 "nbformat_minor": 2
}
