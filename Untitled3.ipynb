{
 "cells": [
  {
   "cell_type": "code",
   "execution_count": 1,
   "metadata": {
    "collapsed": true
   },
   "outputs": [],
   "source": [
    "import pandas as pd\n",
    "import time\n",
    "import redis\n",
    "from flask import current_app\n",
    "from sklearn.feature_extraction.text import TfidfVectorizer\n",
    "from sklearn.metrics.pairwise import linear_kernel,cosine_similarity"
   ]
  },
  {
   "cell_type": "code",
   "execution_count": 2,
   "metadata": {
    "collapsed": true
   },
   "outputs": [],
   "source": [
    "tf = TfidfVectorizer(analyzer='word', ngram_range=(1, 3), min_df=0, stop_words='english')"
   ]
  },
  {
   "cell_type": "code",
   "execution_count": 3,
   "metadata": {
    "collapsed": false
   },
   "outputs": [],
   "source": [
    "ds = pd.read_csv('test_data.csv')"
   ]
  },
  {
   "cell_type": "code",
   "execution_count": 5,
   "metadata": {
    "collapsed": false
   },
   "outputs": [],
   "source": [
    "tfidf_matrix = tf.fit_transform(ds['description'])"
   ]
  },
  {
   "cell_type": "code",
   "execution_count": 6,
   "metadata": {
    "collapsed": false
   },
   "outputs": [],
   "source": [
    "cosine_similarities = linear_kernel(tfidf_matrix, tfidf_matrix)"
   ]
  },
  {
   "cell_type": "code",
   "execution_count": 16,
   "metadata": {
    "collapsed": false
   },
   "outputs": [
    {
     "data": {
      "text/plain": [
       "1.0000000000000004"
      ]
     },
     "execution_count": 16,
     "metadata": {},
     "output_type": "execute_result"
    }
   ],
   "source": [
    "cosine_similarities[23][23]"
   ]
  },
  {
   "cell_type": "code",
   "execution_count": 17,
   "metadata": {
    "collapsed": true
   },
   "outputs": [],
   "source": [
    "from lxml import html,etree\n",
    "import requests\n",
    "import pymongo\n"
   ]
  },
  {
   "cell_type": "code",
   "execution_count": 26,
   "metadata": {
    "collapsed": false
   },
   "outputs": [
    {
     "name": "stdout",
     "output_type": "stream",
     "text": [
      "{'movie id': 151, 'creator': ['Roald Dahl', 'Roald Dahl', 'Wolper Pictures Ltd.'], 'actor_list': ['Gene Wilder', 'Jack Albertson', 'Peter Ostrum', 'Roy Kinnear', 'Julie Dawn Cole'], 'release_date': '1971-06-30', 'director': ['Mel Stuart'], 'IMDb URL': 'http://www.imdb.com/title/tt0067992', 'movie title': 'Willy Wonka and the Chocolate Factory (1971)', 'genre': [' Family', ' Fantasy', ' Musical'], '_id': 'tt0067992'}\n"
     ]
    }
   ],
   "source": [
    "url = 'http://www.imdb.com/title/tt0067992'\n",
    "page = requests.get(url,timeout = 8)\n",
    "tree = html.fromstring(page.content)\n",
    "director = tree.xpath('//span[@itemprop=\"director\"]//span[@itemprop=\"name\"]/text()')\n",
    "genre = tree.xpath('//div[@itemprop=\"genre\"]/a/text()')\n",
    "creator = tree.xpath('//span[@itemprop=\"creator\"]//span[@itemprop=\"name\"]/text()')\n",
    "actor_list = tree.xpath('//table[@class=\"cast_list\"]//span[@itemprop=\"name\"]/text()')[:5] \n",
    "_id = tree.xpath('//meta[@property=\"pageId\"]/@content')[0]\n",
    "release_date = tree.xpath('//meta[@itemprop=\"datePublished\"]/@content')[0]\n",
    "column_list = ['release_date','director','genre','creator','actor_list','_id']\n",
    "new_elem = dict([(i,eval(i)) for i in column_list])\n",
    "dic = {'movie title':'Willy Wonka and the Chocolate Factory (1971)','movie id':151,'IMDb URL':url}\n",
    "new_doc = dict(dic.items() + new_elem.items())\n",
    "print new_doc"
   ]
  },
  {
   "cell_type": "code",
   "execution_count": 25,
   "metadata": {
    "collapsed": false
   },
   "outputs": [
    {
     "data": {
      "text/plain": [
       "<pymongo.results.DeleteResult at 0x7ff0260e06e0>"
      ]
     },
     "execution_count": 25,
     "metadata": {},
     "output_type": "execute_result"
    }
   ],
   "source": [
    "client = pymongo.MongoClient()\n",
    "db = client.test_database\n",
    "coll = db.test_collection\n",
    "coll.delete_one({'movie_id':151})\n"
   ]
  },
  {
   "cell_type": "code",
   "execution_count": 27,
   "metadata": {
    "collapsed": false
   },
   "outputs": [
    {
     "name": "stderr",
     "output_type": "stream",
     "text": [
      "/home/jatin/anaconda2/envs/gl-env/lib/python2.7/site-packages/ipykernel/__main__.py:1: DeprecationWarning: insert is deprecated. Use insert_one or insert_many instead.\n",
      "  if __name__ == '__main__':\n"
     ]
    },
    {
     "data": {
      "text/plain": [
       "'tt0067992'"
      ]
     },
     "execution_count": 27,
     "metadata": {},
     "output_type": "execute_result"
    }
   ],
   "source": [
    "coll.insert(new_doc)"
   ]
  },
  {
   "cell_type": "code",
   "execution_count": null,
   "metadata": {
    "collapsed": true
   },
   "outputs": [],
   "source": []
  }
 ],
 "metadata": {
  "anaconda-cloud": {},
  "kernelspec": {
   "display_name": "Python [conda env:gl-env]",
   "language": "python",
   "name": "conda-env-gl-env-py"
  },
  "language_info": {
   "codemirror_mode": {
    "name": "ipython",
    "version": 2
   },
   "file_extension": ".py",
   "mimetype": "text/x-python",
   "name": "python",
   "nbconvert_exporter": "python",
   "pygments_lexer": "ipython2",
   "version": "2.7.11"
  }
 },
 "nbformat": 4,
 "nbformat_minor": 1
}
