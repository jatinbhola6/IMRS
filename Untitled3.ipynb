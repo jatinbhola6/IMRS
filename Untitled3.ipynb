{
 "cells": [
  {
   "cell_type": "code",
   "execution_count": 1,
   "metadata": {
    "collapsed": true,
    "deletable": true,
    "editable": true
   },
   "outputs": [],
   "source": [
    "import pandas as pd\n",
    "import time\n",
    "import redis\n",
    "from flask import current_app\n",
    "from sklearn.feature_extraction.text import TfidfVectorizer\n",
    "from sklearn.metrics.pairwise import linear_kernel,cosine_similarity"
   ]
  },
  {
   "cell_type": "code",
   "execution_count": 2,
   "metadata": {
    "collapsed": true,
    "deletable": true,
    "editable": true
   },
   "outputs": [],
   "source": [
    "tf = TfidfVectorizer(analyzer='word', ngram_range=(1, 3), min_df=0, stop_words='english')"
   ]
  },
  {
   "cell_type": "code",
   "execution_count": 3,
   "metadata": {
    "collapsed": false,
    "deletable": true,
    "editable": true
   },
   "outputs": [],
   "source": [
    "ds = pd.read_csv('test_data.csv')"
   ]
  },
  {
   "cell_type": "code",
   "execution_count": 5,
   "metadata": {
    "collapsed": false,
    "deletable": true,
    "editable": true
   },
   "outputs": [],
   "source": [
    "tfidf_matrix = tf.fit_transform(ds['description'])"
   ]
  },
  {
   "cell_type": "code",
   "execution_count": 6,
   "metadata": {
    "collapsed": false,
    "deletable": true,
    "editable": true
   },
   "outputs": [],
   "source": [
    "cosine_similarities = linear_kernel(tfidf_matrix, tfidf_matrix)"
   ]
  },
  {
   "cell_type": "code",
   "execution_count": 16,
   "metadata": {
    "collapsed": false,
    "deletable": true,
    "editable": true
   },
   "outputs": [
    {
     "data": {
      "text/plain": [
       "1.0000000000000004"
      ]
     },
     "execution_count": 16,
     "metadata": {},
     "output_type": "execute_result"
    }
   ],
   "source": [
    "cosine_similarities[23][23]"
   ]
  },
  {
   "cell_type": "code",
   "execution_count": 17,
   "metadata": {
    "collapsed": true,
    "deletable": true,
    "editable": true
   },
   "outputs": [],
   "source": [
    "from lxml import html,etree\n",
    "import requests\n",
    "import pymongo\n"
   ]
  },
  {
   "cell_type": "code",
   "execution_count": 26,
   "metadata": {
    "collapsed": false,
    "deletable": true,
    "editable": true
   },
   "outputs": [
    {
     "name": "stdout",
     "output_type": "stream",
     "text": [
      "{'movie id': 151, 'creator': ['Roald Dahl', 'Roald Dahl', 'Wolper Pictures Ltd.'], 'actor_list': ['Gene Wilder', 'Jack Albertson', 'Peter Ostrum', 'Roy Kinnear', 'Julie Dawn Cole'], 'release_date': '1971-06-30', 'director': ['Mel Stuart'], 'IMDb URL': 'http://www.imdb.com/title/tt0067992', 'movie title': 'Willy Wonka and the Chocolate Factory (1971)', 'genre': [' Family', ' Fantasy', ' Musical'], '_id': 'tt0067992'}\n"
     ]
    }
   ],
   "source": [
    "url = 'http://www.imdb.com/title/tt0067992'\n",
    "page = requests.get(url,timeout = 8)\n",
    "tree = html.fromstring(page.content)\n",
    "director = tree.xpath('//span[@itemprop=\"director\"]//span[@itemprop=\"name\"]/text()')\n",
    "genre = tree.xpath('//div[@itemprop=\"genre\"]/a/text()')\n",
    "creator = tree.xpath('//span[@itemprop=\"creator\"]//span[@itemprop=\"name\"]/text()')\n",
    "actor_list = tree.xpath('//table[@class=\"cast_list\"]//span[@itemprop=\"name\"]/text()')[:5] \n",
    "_id = tree.xpath('//meta[@property=\"pageId\"]/@content')[0]\n",
    "release_date = tree.xpath('//meta[@itemprop=\"datePublished\"]/@content')[0]\n",
    "column_list = ['release_date','director','genre','creator','actor_list','_id']\n",
    "new_elem = dict([(i,eval(i)) for i in column_list])\n",
    "dic = {'movie title':'Willy Wonka and the Chocolate Factory (1971)','movie id':151,'IMDb URL':url}\n",
    "new_doc = dict(dic.items() + new_elem.items())\n",
    "print new_doc"
   ]
  },
  {
   "cell_type": "code",
   "execution_count": 25,
   "metadata": {
    "collapsed": false,
    "deletable": true,
    "editable": true
   },
   "outputs": [
    {
     "data": {
      "text/plain": [
       "<pymongo.results.DeleteResult at 0x7ff0260e06e0>"
      ]
     },
     "execution_count": 25,
     "metadata": {},
     "output_type": "execute_result"
    }
   ],
   "source": [
    "client = pymongo.MongoClient()\n",
    "db = client.test_database\n",
    "coll = db.test_collection\n",
    "coll.delete_one({'movie_id':151})\n"
   ]
  },
  {
   "cell_type": "code",
   "execution_count": 27,
   "metadata": {
    "collapsed": false,
    "deletable": true,
    "editable": true
   },
   "outputs": [
    {
     "name": "stderr",
     "output_type": "stream",
     "text": [
      "/home/jatin/anaconda2/envs/gl-env/lib/python2.7/site-packages/ipykernel/__main__.py:1: DeprecationWarning: insert is deprecated. Use insert_one or insert_many instead.\n",
      "  if __name__ == '__main__':\n"
     ]
    },
    {
     "data": {
      "text/plain": [
       "'tt0067992'"
      ]
     },
     "execution_count": 27,
     "metadata": {},
     "output_type": "execute_result"
    }
   ],
   "source": [
    "coll.insert(new_doc)"
   ]
  },
  {
   "cell_type": "code",
   "execution_count": 3,
   "metadata": {
    "collapsed": true,
    "deletable": true,
    "editable": true
   },
   "outputs": [],
   "source": [
    "\n",
    "from tqdm import tqdm_notebook,tnrange\n",
    "import time"
   ]
  },
  {
   "cell_type": "code",
   "execution_count": 4,
   "metadata": {
    "collapsed": false,
    "deletable": true,
    "editable": true
   },
   "outputs": [
    {
     "ename": "NameError",
     "evalue": "name 'pd' is not defined",
     "output_type": "error",
     "traceback": [
      "\u001b[1;31m---------------------------------------------------------------------------\u001b[0m",
      "\u001b[1;31mNameError\u001b[0m                                 Traceback (most recent call last)",
      "\u001b[1;32m<ipython-input-4-37ce19312fc5>\u001b[0m in \u001b[0;36m<module>\u001b[1;34m()\u001b[0m\n\u001b[1;32m----> 1\u001b[1;33m \u001b[0mdf\u001b[0m \u001b[1;33m=\u001b[0m \u001b[0mpd\u001b[0m\u001b[1;33m.\u001b[0m\u001b[0mDataFrame\u001b[0m\u001b[1;33m(\u001b[0m\u001b[0mnp\u001b[0m\u001b[1;33m.\u001b[0m\u001b[0mrandom\u001b[0m\u001b[1;33m.\u001b[0m\u001b[0mrandint\u001b[0m\u001b[1;33m(\u001b[0m\u001b[1;36m0\u001b[0m\u001b[1;33m,\u001b[0m\u001b[1;36m100\u001b[0m\u001b[1;33m,\u001b[0m\u001b[1;33m(\u001b[0m\u001b[1;36m100000\u001b[0m\u001b[1;33m,\u001b[0m\u001b[1;36m6\u001b[0m\u001b[1;33m)\u001b[0m\u001b[1;33m)\u001b[0m\u001b[1;33m)\u001b[0m\u001b[1;33m\u001b[0m\u001b[0m\n\u001b[0m",
      "\u001b[1;31mNameError\u001b[0m: name 'pd' is not defined"
     ]
    }
   ],
   "source": [
    "df = pd.DataFrame(np.random.randint(0,100,(100000,6)))"
   ]
  },
  {
   "cell_type": "code",
   "execution_count": 9,
   "metadata": {
    "collapsed": false,
    "deletable": true,
    "editable": true
   },
   "outputs": [
    {
     "name": "stdout",
     "output_type": "stream",
     "text": [
      "\n"
     ]
    }
   ],
   "source": [
    "\n",
    "for i in tqdm_notebook(xrange(4),desc = \"my bar\"):\n",
    "    for j in tqdm_notebook(xrange(100),desc = \"2nd loop\",leave = False):\n",
    "          time.sleep(0.01)"
   ]
  },
  {
   "cell_type": "code",
   "execution_count": 6,
   "metadata": {
    "collapsed": false,
    "deletable": true,
    "editable": true
   },
   "outputs": [
    {
     "name": "stdout",
     "output_type": "stream",
     "text": [
      "Collecting ipywidgets==5.0.0\n",
      "  Downloading ipywidgets-5.0.0-py2.py3-none-any.whl (141kB)\n",
      "\u001b[K    100% |████████████████████████████████| 143kB 238kB/s \n",
      "\u001b[?25hRequirement already satisfied: ipython>=4.0.0 in /home/jatin/anaconda2/lib/python2.7/site-packages (from ipywidgets==5.0.0)\n",
      "Requirement already satisfied: traitlets>=4.2.0 in /home/jatin/anaconda2/lib/python2.7/site-packages (from ipywidgets==5.0.0)\n",
      "Requirement already satisfied: ipykernel>=4.2.2 in /home/jatin/anaconda2/lib/python2.7/site-packages (from ipywidgets==5.0.0)\n",
      "Requirement already satisfied: widgetsnbextension>=1.0.0b5 in /home/jatin/anaconda2/lib/python2.7/site-packages (from ipywidgets==5.0.0)\n",
      "Requirement already satisfied: enum34; python_version == \"2.7\" in /home/jatin/anaconda2/lib/python2.7/site-packages (from traitlets>=4.2.0->ipywidgets==5.0.0)\n",
      "Requirement already satisfied: six in /home/jatin/anaconda2/lib/python2.7/site-packages (from traitlets>=4.2.0->ipywidgets==5.0.0)\n",
      "Requirement already satisfied: decorator in /home/jatin/anaconda2/lib/python2.7/site-packages (from traitlets>=4.2.0->ipywidgets==5.0.0)\n",
      "Requirement already satisfied: ipython-genutils in /home/jatin/anaconda2/lib/python2.7/site-packages (from traitlets>=4.2.0->ipywidgets==5.0.0)\n",
      "Requirement already satisfied: tornado>=4.0 in /home/jatin/anaconda2/lib/python2.7/site-packages (from ipykernel>=4.2.2->ipywidgets==5.0.0)\n",
      "Requirement already satisfied: jupyter-client in /home/jatin/anaconda2/lib/python2.7/site-packages (from ipykernel>=4.2.2->ipywidgets==5.0.0)\n",
      "Requirement already satisfied: notebook>=4.4.1 in /home/jatin/anaconda2/lib/python2.7/site-packages (from widgetsnbextension>=1.0.0b5->ipywidgets==5.0.0)\n",
      "Requirement already satisfied: nbformat in /home/jatin/anaconda2/lib/python2.7/site-packages (from notebook>=4.4.1->widgetsnbextension>=1.0.0b5->ipywidgets==5.0.0)\n",
      "Requirement already satisfied: terminado>=0.3.3; sys_platform != \"win32\" in /home/jatin/anaconda2/lib/python2.7/site-packages (from notebook>=4.4.1->widgetsnbextension>=1.0.0b5->ipywidgets==5.0.0)\n",
      "Requirement already satisfied: jupyter-core in /home/jatin/anaconda2/lib/python2.7/site-packages (from notebook>=4.4.1->widgetsnbextension>=1.0.0b5->ipywidgets==5.0.0)\n",
      "Requirement already satisfied: nbconvert in /home/jatin/anaconda2/lib/python2.7/site-packages (from notebook>=4.4.1->widgetsnbextension>=1.0.0b5->ipywidgets==5.0.0)\n",
      "Requirement already satisfied: jinja2 in /home/jatin/anaconda2/lib/python2.7/site-packages (from notebook>=4.4.1->widgetsnbextension>=1.0.0b5->ipywidgets==5.0.0)\n",
      "Requirement already satisfied: jsonschema!=2.5.0,>=2.4 in /home/jatin/anaconda2/lib/python2.7/site-packages (from nbformat->notebook>=4.4.1->widgetsnbextension>=1.0.0b5->ipywidgets==5.0.0)\n",
      "Requirement already satisfied: MarkupSafe in /home/jatin/anaconda2/lib/python2.7/site-packages (from jinja2->notebook>=4.4.1->widgetsnbextension>=1.0.0b5->ipywidgets==5.0.0)\n",
      "Requirement already satisfied: functools32 in /home/jatin/anaconda2/lib/python2.7/site-packages (from jsonschema!=2.5.0,>=2.4->nbformat->notebook>=4.4.1->widgetsnbextension>=1.0.0b5->ipywidgets==5.0.0)\n",
      "Installing collected packages: ipywidgets\n",
      "  Found existing installation: ipywidgets 6.0.0\n",
      "    Uninstalling ipywidgets-6.0.0:\n",
      "      Successfully uninstalled ipywidgets-6.0.0\n",
      "Successfully installed ipywidgets-5.0.0\n"
     ]
    }
   ],
   "source": [
    "!pip install ipywidgets==5.0.0"
   ]
  },
  {
   "cell_type": "code",
   "execution_count": 14,
   "metadata": {
    "collapsed": false,
    "deletable": true,
    "editable": true
   },
   "outputs": [
    {
     "name": "stdout",
     "output_type": "stream",
     "text": [
      "Enabling notebook extension jupyter-js-widgets/extension...\r\n",
      "      - Validating: \u001b[32mOK\u001b[0m\r\n"
     ]
    }
   ],
   "source": [
    "!jupyter nbextension enable --py --sys-prefix widgetsnbextension"
   ]
  },
  {
   "cell_type": "code",
   "execution_count": 1,
   "metadata": {
    "collapsed": false,
    "deletable": true,
    "editable": true
   },
   "outputs": [],
   "source": [
    "from ipywidgets import *\n",
    "from IPython.display import display"
   ]
  },
  {
   "cell_type": "code",
   "execution_count": 2,
   "metadata": {
    "collapsed": false,
    "deletable": true,
    "editable": true
   },
   "outputs": [
    {
     "data": {
      "application/vnd.jupyter.widget-view+json": {
       "model_id": "1acefd2c7b1945988b6694852500232a"
      }
     },
     "metadata": {},
     "output_type": "display_data"
    }
   ],
   "source": [
    "w = IntSlider()\n",
    "display(w)"
   ]
  },
  {
   "cell_type": "code",
   "execution_count": 20,
   "metadata": {
    "collapsed": false,
    "deletable": true,
    "editable": true
   },
   "outputs": [
    {
     "name": "stdout",
     "output_type": "stream",
     "text": [
      "Fetching package metadata .........\n",
      "Solving package specifications: .\n",
      "\n",
      "Package plan for installation in environment /home/jatin/anaconda2:\n",
      "\n",
      "The following packages will be UPDATED:\n",
      "\n",
      "    conda:              4.3.13-py27_0 --> 4.3.14-py27_0\n",
      "    ipykernel:          4.5.0-py27_0  --> 4.5.2-py27_0 \n",
      "    ipywidgets:         5.2.2-py27_0  --> 6.0.0-py27_0 \n",
      "    notebook:           4.2.3-py27_0  --> 4.4.1-py27_0 \n",
      "    traitlets:          4.3.0-py27_0  --> 4.3.2-py27_0 \n",
      "    widgetsnbextension: 1.2.6-py27_0  --> 2.0.0-py27_0 \n",
      "\n",
      "Proceed ([y]/n)? ^C\n",
      "\n",
      "CondaSignalInterrupt: Signal interrupt SIGINT\n",
      "\n",
      "\n",
      "\n"
     ]
    }
   ],
   "source": [
    "!conda install ipywidgets"
   ]
  },
  {
   "cell_type": "code",
   "execution_count": 21,
   "metadata": {
    "collapsed": false,
    "deletable": true,
    "editable": true
   },
   "outputs": [
    {
     "ename": "NameError",
     "evalue": "name 'y' is not defined",
     "output_type": "error",
     "traceback": [
      "\u001b[1;31m---------------------------------------------------------------------------\u001b[0m",
      "\u001b[1;31mNameError\u001b[0m                                 Traceback (most recent call last)",
      "\u001b[1;32m<ipython-input-21-009520053b00>\u001b[0m in \u001b[0;36m<module>\u001b[1;34m()\u001b[0m\n\u001b[1;32m----> 1\u001b[1;33m \u001b[0my\u001b[0m\u001b[1;33m\u001b[0m\u001b[0m\n\u001b[0m",
      "\u001b[1;31mNameError\u001b[0m: name 'y' is not defined"
     ]
    }
   ],
   "source": [
    "y"
   ]
  },
  {
   "cell_type": "code",
   "execution_count": null,
   "metadata": {
    "collapsed": true,
    "deletable": true,
    "editable": true
   },
   "outputs": [],
   "source": []
  }
 ],
 "metadata": {
  "anaconda-cloud": {},
  "kernelspec": {
   "display_name": "Python [conda env:gl-env]",
   "language": "python",
   "name": "conda-env-gl-env-py"
  },
  "language_info": {
   "codemirror_mode": {
    "name": "ipython",
    "version": 2
   },
   "file_extension": ".py",
   "mimetype": "text/x-python",
   "name": "python",
   "nbconvert_exporter": "python",
   "pygments_lexer": "ipython2",
   "version": "2.7.11"
  }
 },
 "nbformat": 4,
 "nbformat_minor": 1
}
