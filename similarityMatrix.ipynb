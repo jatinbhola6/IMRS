{
 "cells": [
  {
   "cell_type": "code",
   "execution_count": 2,
   "metadata": {
    "collapsed": false,
    "deletable": true,
    "editable": true
   },
   "outputs": [],
   "source": [
    "import pandas as pd\n",
    "from pandas import merge\n",
    "import ast\n",
    "import numpy as np\n",
    "import gc\n",
    "#import tqdm\n",
    "from tqdm._tqdm_notebook import tqdm_notebook as tq"
   ]
  },
  {
   "cell_type": "code",
   "execution_count": 6,
   "metadata": {
    "collapsed": true,
    "deletable": true,
    "editable": true
   },
   "outputs": [],
   "source": [
    "movie_data = pd.read_csv('test.csv')"
   ]
  },
  {
   "cell_type": "code",
   "execution_count": 7,
   "metadata": {
    "collapsed": false,
    "deletable": true,
    "editable": true
   },
   "outputs": [
    {
     "data": {
      "text/plain": [
       "(1647, 8)"
      ]
     },
     "execution_count": 7,
     "metadata": {},
     "output_type": "execute_result"
    }
   ],
   "source": [
    "movie_data.shape"
   ]
  },
  {
   "cell_type": "code",
   "execution_count": 8,
   "metadata": {
    "collapsed": true,
    "deletable": true,
    "editable": true
   },
   "outputs": [],
   "source": [
    "ones = [1]*movie_data.shape[0]\n",
    "movie_data['ones'] = ones\n",
    "del ones"
   ]
  },
  {
   "cell_type": "code",
   "execution_count": 9,
   "metadata": {
    "collapsed": true,
    "deletable": true,
    "editable": true
   },
   "outputs": [],
   "source": [
    "def calc_similarity(row,l = 0.25):\n",
    "    #gc.collect()\n",
    "    features = ['director','creator','actor_list','genre']\n",
    "    feature_vector = []\n",
    "    for feature in features:\n",
    "        fx = row[feature+'_x']\n",
    "        fy = row[feature+'_y']\n",
    "        if isinstance(fx,str):\n",
    "            fx = fx.replace('“','\"')\n",
    "            fx = fx.replace('”','\"')\n",
    "            fx = ast.literal_eval(fx)\n",
    "        if isinstance(fy,str):\n",
    "            fy = fy.replace('“','\"')\n",
    "            fy = fy.replace('”','\"')\n",
    "            fy = ast.literal_eval(fy)\n",
    "        fx = set(fx)\n",
    "        fy = set(fy)\n",
    "        a = len(fx.intersection(fy))\n",
    "        b = len(fx.union(fy))\n",
    "        feature_vector.append(float(a)/float(b))\n",
    "    feature_vector = np.array(feature_vector)\n",
    "    weight_vector = np.array([l]*len(feature_vector))\n",
    "    similarity_vector = feature_vector.dot(weight_vector)\n",
    "    row['similarity'] = similarity_vector\n",
    "    del features,feature_vector,weight_vector,a,b,similarity_vector\n",
    "    return row[['movie id_x','movie id_y','similarity']]"
   ]
  },
  {
   "cell_type": "code",
   "execution_count": null,
   "metadata": {
    "collapsed": false,
    "deletable": true,
    "editable": true
   },
   "outputs": [
    {
     "name": "stderr",
     "output_type": "stream",
     "text": [
      "Widget Javascript not detected.  It may not be installed or enabled properly.\n"
     ]
    },
    {
     "data": {
      "application/vnd.jupyter.widget-view+json": {
       "model_id": "ff26e94a85754f9cac791f1ef7826eca"
      }
     },
     "metadata": {},
     "output_type": "display_data"
    },
    {
     "name": "stdout",
     "output_type": "stream",
     "text": [
      "\n"
     ]
    },
    {
     "name": "stderr",
     "output_type": "stream",
     "text": [
      "Widget Javascript not detected.  It may not be installed or enabled properly.\n"
     ]
    },
    {
     "data": {
      "application/vnd.jupyter.widget-view+json": {
       "model_id": "57e382fc445a4852ac632cab788766eb"
      }
     },
     "metadata": {},
     "output_type": "display_data"
    },
    {
     "name": "stdout",
     "output_type": "stream",
     "text": [
      "100468it [04:50, 387.54it/s]\n"
     ]
    },
    {
     "name": "stderr",
     "output_type": "stream",
     "text": [
      "Widget Javascript not detected.  It may not be installed or enabled properly.\n"
     ]
    },
    {
     "data": {
      "application/vnd.jupyter.widget-view+json": {
       "model_id": "fb0477b9bf4148449c217fd57987dfd2"
      }
     },
     "metadata": {},
     "output_type": "display_data"
    },
    {
     "name": "stdout",
     "output_type": "stream",
     "text": [
      "\n"
     ]
    },
    {
     "name": "stderr",
     "output_type": "stream",
     "text": [
      "Widget Javascript not detected.  It may not be installed or enabled properly.\n"
     ]
    },
    {
     "data": {
      "application/vnd.jupyter.widget-view+json": {
       "model_id": "dfa89dffee60422fa25c644219ad3515"
      }
     },
     "metadata": {},
     "output_type": "display_data"
    }
   ],
   "source": [
    "for i in xrange(0,1647,61):\n",
    "    sample_cross_join = merge(movie_data.loc[i:i+60,['movie id','director','creator','actor_list','genre','ones']],movie_data.loc[:,['movie id','director','creator','actor_list','genre','ones']],on = \"ones\")\n",
    "    tq().pandas(desc = \"my bar\")\n",
    "    similarity_matrix = sample_cross_join.progress_apply(calc_similarity,axis = 1)\n",
    "    similarity_matrix.to_csv('similarity.csv',mode = 'a')\n",
    "    del sample_cross_join,similarity_matrix"
   ]
  },
  {
   "cell_type": "code",
   "execution_count": 11,
   "metadata": {
    "collapsed": false,
    "deletable": true,
    "editable": true
   },
   "outputs": [
    {
     "data": {
      "text/plain": [
       "(100467, 11)"
      ]
     },
     "execution_count": 11,
     "metadata": {},
     "output_type": "execute_result"
    }
   ],
   "source": [
    "sample_cross_join = merge(movie_data.loc[61:60+61,['movie id','director','creator','actor_list','genre','ones']],movie_data.loc[:,['movie id','director','creator','actor_list','genre','ones']],on = \"ones\")\n",
    "sample_cross_join.shape"
   ]
  }
 ],
 "metadata": {
  "anaconda-cloud": {},
  "kernelspec": {
   "display_name": "Python [conda env:gl-env]",
   "language": "python",
   "name": "conda-env-gl-env-py"
  }
 },
 "nbformat": 4,
 "nbformat_minor": 1
}
