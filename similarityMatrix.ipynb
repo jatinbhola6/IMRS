{
 "cells": [
  {
   "cell_type": "code",
   "execution_count": 1,
   "metadata": {
    "collapsed": false,
    "deletable": true,
    "editable": true
   },
   "outputs": [],
   "source": [
    "import pandas as pd\n",
    "from pandas import merge\n",
    "import ast\n",
    "import numpy as np\n",
    "import gc\n",
    "#import tqdm\n",
    "from tqdm._tqdm_notebook import tqdm_notebook as tq"
   ]
  },
  {
   "cell_type": "code",
   "execution_count": 2,
   "metadata": {
    "collapsed": true,
    "deletable": true,
    "editable": true
   },
   "outputs": [],
   "source": [
    "movie_data = pd.read_csv('test.csv')"
   ]
  },
  {
   "cell_type": "code",
   "execution_count": 3,
   "metadata": {
    "collapsed": false,
    "deletable": true,
    "editable": true
   },
   "outputs": [
    {
     "data": {
      "text/plain": [
       "(1647, 8)"
      ]
     },
     "execution_count": 3,
     "metadata": {},
     "output_type": "execute_result"
    }
   ],
   "source": [
    "movie_data.shape"
   ]
  },
  {
   "cell_type": "code",
   "execution_count": 3,
   "metadata": {
    "collapsed": true,
    "deletable": true,
    "editable": true
   },
   "outputs": [],
   "source": [
    "ones = [1]*movie_data.shape[0]\n",
    "movie_data['ones'] = ones\n",
    "del ones"
   ]
  },
  {
   "cell_type": "code",
   "execution_count": 5,
   "metadata": {
    "collapsed": false,
    "deletable": true,
    "editable": true
   },
   "outputs": [],
   "source": [
    "cross_join = merge(movie_data[['movie id','director','creator','actor_list','genre','ones']],movie_data[['movie id','director','creator','actor_list','genre','ones']],on = \"ones\")"
   ]
  },
  {
   "cell_type": "code",
   "execution_count": 4,
   "metadata": {
    "collapsed": true,
    "deletable": true,
    "editable": true
   },
   "outputs": [],
   "source": [
    "def calc_similarity(row,l = 0.25):\n",
    "    #gc.collect()\n",
    "    features = ['director','creator','actor_list','genre']\n",
    "    feature_vector = []\n",
    "    for feature in features:\n",
    "        fx = row[feature+'_x']\n",
    "        fy = row[feature+'_y']\n",
    "        if isinstance(fx,str):\n",
    "            fx = fx.replace('“','\"')\n",
    "            fx = fx.replace('”','\"')\n",
    "            fx = ast.literal_eval(fx)\n",
    "        if isinstance(fy,str):\n",
    "            fy = fy.replace('“','\"')\n",
    "            fy = fy.replace('”','\"')\n",
    "            fy = ast.literal_eval(fy)\n",
    "        fx = set(fx)\n",
    "        fy = set(fy)\n",
    "        a = len(fx.intersection(fy))\n",
    "        b = len(fx.union(fy))\n",
    "        feature_vector.append(float(a)/float(b))\n",
    "    feature_vector = np.array(feature_vector)\n",
    "    weight_vector = np.array([l]*len(feature_vector))\n",
    "    similarity_vector = feature_vector.dot(weight_vector)\n",
    "    row['similarity'] = similarity_vector\n",
    "    del features,feature_vector,weight_vector,a,b,similarity_vector\n",
    "    return row[['movie id_x','movie id_y','similarity']]"
   ]
  },
  {
   "cell_type": "code",
   "execution_count": 9,
   "metadata": {
    "collapsed": false,
    "deletable": true,
    "editable": true
   },
   "outputs": [
    {
     "data": {
      "application/vnd.jupyter.widget-view+json": {
       "model_id": "3eeb013090cf4996b97f7ea12e6a8569"
      }
     },
     "metadata": {},
     "output_type": "display_data"
    },
    {
     "name": "stdout",
     "output_type": "stream",
     "text": [
      "\r",
      "          \r",
      "26458it [01:28, 360.50it/s]"
     ]
    }
   ],
   "source": [
    "sample_cross_join = merge(movie_data.loc[0:20,['movie id','director','creator','actor_list','genre','ones']],movie_data.loc[:,['movie id','director','creator','actor_list','genre','ones']],on = \"ones\")\n",
    "tq().pandas(desc = \"my bar\")"
   ]
  },
  {
   "cell_type": "code",
   "execution_count": 10,
   "metadata": {
    "collapsed": false,
    "deletable": true,
    "editable": true
   },
   "outputs": [
    {
     "data": {
      "application/vnd.jupyter.widget-view+json": {
       "model_id": "6ccc054a1fb3417f89d5923adf82f745"
      }
     },
     "metadata": {},
     "output_type": "display_data"
    }
   ],
   "source": [
    "similarity_matrix = sample_cross_join.progress_apply(calc_similarity,axis = 1)"
   ]
  },
  {
   "cell_type": "code",
   "execution_count": 12,
   "metadata": {
    "collapsed": false,
    "deletable": true,
    "editable": true
   },
   "outputs": [
    {
     "data": {
      "text/plain": [
       "(34587, 3)"
      ]
     },
     "execution_count": 12,
     "metadata": {},
     "output_type": "execute_result"
    }
   ],
   "source": [
    "similarity_matrix.shape"
   ]
  },
  {
   "cell_type": "code",
   "execution_count": 51,
   "metadata": {
    "collapsed": false,
    "deletable": true,
    "editable": true
   },
   "outputs": [
    {
     "data": {
      "text/plain": [
       "tqdm._tqdm_notebook.tqdm_notebook"
      ]
     },
     "execution_count": 51,
     "metadata": {},
     "output_type": "execute_result"
    },
    {
     "name": "stdout",
     "output_type": "stream",
     "text": [
      "\r",
      "          \r",
      "2230it [00:21, 278.74it/s]"
     ]
    }
   ],
   "source": [
    "type(tq())"
   ]
  },
  {
   "cell_type": "code",
   "execution_count": 13,
   "metadata": {
    "collapsed": true,
    "deletable": true,
    "editable": true
   },
   "outputs": [],
   "source": [
    "similarity_matrix.to_csv('similarity.csv')"
   ]
  },
  {
   "cell_type": "code",
   "execution_count": 5,
   "metadata": {
    "collapsed": false,
    "deletable": true,
    "editable": true
   },
   "outputs": [
    {
     "data": {
      "application/vnd.jupyter.widget-view+json": {
       "model_id": "feb7c1737c3448c1877ec0c3bb918fc6"
      }
     },
     "metadata": {},
     "output_type": "display_data"
    },
    {
     "name": "stdout",
     "output_type": "stream",
     "text": [
      "\n"
     ]
    },
    {
     "data": {
      "application/vnd.jupyter.widget-view+json": {
       "model_id": "2a49509924c647f9b44a6f0fb8b97aaf"
      }
     },
     "metadata": {},
     "output_type": "display_data"
    },
    {
     "name": "stdout",
     "output_type": "stream",
     "text": [
      "\n"
     ]
    },
    {
     "data": {
      "application/vnd.jupyter.widget-view+json": {
       "model_id": "88c805d529da4594a62fc81cc39d0628"
      }
     },
     "metadata": {},
     "output_type": "display_data"
    },
    {
     "name": "stdout",
     "output_type": "stream",
     "text": [
      "\n"
     ]
    },
    {
     "data": {
      "application/vnd.jupyter.widget-view+json": {
       "model_id": "918678be37c54d9a9d1f4d8c720720a9"
      }
     },
     "metadata": {},
     "output_type": "display_data"
    },
    {
     "name": "stdout",
     "output_type": "stream",
     "text": [
      "100468it [04:50, 352.21it/s]\n"
     ]
    },
    {
     "data": {
      "application/vnd.jupyter.widget-view+json": {
       "model_id": "29e7d77faa0147b2a5ed2da55569b4a6"
      }
     },
     "metadata": {},
     "output_type": "display_data"
    },
    {
     "name": "stdout",
     "output_type": "stream",
     "text": [
      "\n"
     ]
    },
    {
     "data": {
      "application/vnd.jupyter.widget-view+json": {
       "model_id": "ae4a86a49ff649c887ca0e81e9354db1"
      }
     },
     "metadata": {},
     "output_type": "display_data"
    },
    {
     "name": "stdout",
     "output_type": "stream",
     "text": [
      "\n"
     ]
    },
    {
     "data": {
      "application/vnd.jupyter.widget-view+json": {
       "model_id": "b67ad63bea0d49f89f9746fb7543b08e"
      }
     },
     "metadata": {},
     "output_type": "display_data"
    },
    {
     "name": "stdout",
     "output_type": "stream",
     "text": [
      "\n"
     ]
    },
    {
     "data": {
      "application/vnd.jupyter.widget-view+json": {
       "model_id": "0bfc67eb44b54e2b873fb691337b66bf"
      }
     },
     "metadata": {},
     "output_type": "display_data"
    },
    {
     "name": "stdout",
     "output_type": "stream",
     "text": [
      "\n"
     ]
    },
    {
     "data": {
      "application/vnd.jupyter.widget-view+json": {
       "model_id": "6261ba321c224fef843eda1e4a3e2bc5"
      }
     },
     "metadata": {},
     "output_type": "display_data"
    },
    {
     "name": "stdout",
     "output_type": "stream",
     "text": [
      "\n"
     ]
    },
    {
     "data": {
      "application/vnd.jupyter.widget-view+json": {
       "model_id": "a4406777f0304b2d87ff6883ddacee2f"
      }
     },
     "metadata": {},
     "output_type": "display_data"
    },
    {
     "name": "stdout",
     "output_type": "stream",
     "text": [
      "\n"
     ]
    },
    {
     "data": {
      "application/vnd.jupyter.widget-view+json": {
       "model_id": "b9778506b33147e29483e293975aa528"
      }
     },
     "metadata": {},
     "output_type": "display_data"
    },
    {
     "name": "stdout",
     "output_type": "stream",
     "text": [
      "\n"
     ]
    },
    {
     "data": {
      "application/vnd.jupyter.widget-view+json": {
       "model_id": "f4eff86ed5d14057ab9c78d3d57be78e"
      }
     },
     "metadata": {},
     "output_type": "display_data"
    },
    {
     "name": "stdout",
     "output_type": "stream",
     "text": [
      "\n"
     ]
    },
    {
     "data": {
      "application/vnd.jupyter.widget-view+json": {
       "model_id": "03f777cd5ef94cd691d8ae7cc9f597af"
      }
     },
     "metadata": {},
     "output_type": "display_data"
    },
    {
     "name": "stdout",
     "output_type": "stream",
     "text": [
      "\n"
     ]
    },
    {
     "data": {
      "application/vnd.jupyter.widget-view+json": {
       "model_id": "a71af76fd9c34cb1b6d3232f60640674"
      }
     },
     "metadata": {},
     "output_type": "display_data"
    },
    {
     "name": "stdout",
     "output_type": "stream",
     "text": [
      "\n"
     ]
    },
    {
     "data": {
      "application/vnd.jupyter.widget-view+json": {
       "model_id": "7b2b036da70e423fbb1661d0bd25e9cf"
      }
     },
     "metadata": {},
     "output_type": "display_data"
    },
    {
     "name": "stdout",
     "output_type": "stream",
     "text": [
      "\n"
     ]
    },
    {
     "data": {
      "application/vnd.jupyter.widget-view+json": {
       "model_id": "4e57f41cdeba457ca5f09668bad1fbfa"
      }
     },
     "metadata": {},
     "output_type": "display_data"
    },
    {
     "name": "stdout",
     "output_type": "stream",
     "text": [
      "100468it [04:30, 365.93it/s]\n"
     ]
    },
    {
     "data": {
      "application/vnd.jupyter.widget-view+json": {
       "model_id": "aeb5eef6ccf649dfa7e10b704a860f1d"
      }
     },
     "metadata": {},
     "output_type": "display_data"
    },
    {
     "name": "stdout",
     "output_type": "stream",
     "text": [
      "\n"
     ]
    },
    {
     "data": {
      "application/vnd.jupyter.widget-view+json": {
       "model_id": "7015ffba3764417587c8d07dc3dc4222"
      }
     },
     "metadata": {},
     "output_type": "display_data"
    },
    {
     "name": "stdout",
     "output_type": "stream",
     "text": [
      "\n"
     ]
    },
    {
     "data": {
      "application/vnd.jupyter.widget-view+json": {
       "model_id": "b12e4bba84d048a795fcbed02b8a8a62"
      }
     },
     "metadata": {},
     "output_type": "display_data"
    },
    {
     "name": "stdout",
     "output_type": "stream",
     "text": [
      "\n"
     ]
    },
    {
     "data": {
      "application/vnd.jupyter.widget-view+json": {
       "model_id": "e8a2b5d14ce54f8b93d921c712549d48"
      }
     },
     "metadata": {},
     "output_type": "display_data"
    },
    {
     "name": "stdout",
     "output_type": "stream",
     "text": [
      "\n"
     ]
    },
    {
     "data": {
      "application/vnd.jupyter.widget-view+json": {
       "model_id": "8ad579e7f6a349878127000634260589"
      }
     },
     "metadata": {},
     "output_type": "display_data"
    },
    {
     "name": "stdout",
     "output_type": "stream",
     "text": [
      "\n"
     ]
    },
    {
     "data": {
      "application/vnd.jupyter.widget-view+json": {
       "model_id": "55389f7c59eb45a0b140335648b1971f"
      }
     },
     "metadata": {},
     "output_type": "display_data"
    },
    {
     "name": "stdout",
     "output_type": "stream",
     "text": [
      "\n"
     ]
    },
    {
     "data": {
      "application/vnd.jupyter.widget-view+json": {
       "model_id": "9f360f8c324d4e278ce62e58be2d295a"
      }
     },
     "metadata": {},
     "output_type": "display_data"
    },
    {
     "name": "stdout",
     "output_type": "stream",
     "text": [
      "\n"
     ]
    },
    {
     "data": {
      "application/vnd.jupyter.widget-view+json": {
       "model_id": "df75f00bf5af4111a36e4ee4a12153a5"
      }
     },
     "metadata": {},
     "output_type": "display_data"
    },
    {
     "name": "stdout",
     "output_type": "stream",
     "text": [
      "\n"
     ]
    },
    {
     "data": {
      "application/vnd.jupyter.widget-view+json": {
       "model_id": "464b5b6a8a24449e92308538fc64efb8"
      }
     },
     "metadata": {},
     "output_type": "display_data"
    },
    {
     "name": "stdout",
     "output_type": "stream",
     "text": [
      "\n"
     ]
    },
    {
     "data": {
      "application/vnd.jupyter.widget-view+json": {
       "model_id": "45de7579efc1463f9d5f6c3f57d790ca"
      }
     },
     "metadata": {},
     "output_type": "display_data"
    },
    {
     "name": "stdout",
     "output_type": "stream",
     "text": [
      "\n"
     ]
    },
    {
     "data": {
      "application/vnd.jupyter.widget-view+json": {
       "model_id": "7ec4c9fb2a6b4e5eb3f8f41cd7b52ae3"
      }
     },
     "metadata": {},
     "output_type": "display_data"
    },
    {
     "name": "stdout",
     "output_type": "stream",
     "text": [
      "\n"
     ]
    },
    {
     "data": {
      "application/vnd.jupyter.widget-view+json": {
       "model_id": "ee1553df79784909810723fe4b41e4b7"
      }
     },
     "metadata": {},
     "output_type": "display_data"
    },
    {
     "name": "stdout",
     "output_type": "stream",
     "text": [
      "\n"
     ]
    },
    {
     "data": {
      "application/vnd.jupyter.widget-view+json": {
       "model_id": "43eeb48fa53d49d18c085879fa6ac054"
      }
     },
     "metadata": {},
     "output_type": "display_data"
    },
    {
     "name": "stdout",
     "output_type": "stream",
     "text": [
      "\n"
     ]
    },
    {
     "data": {
      "application/vnd.jupyter.widget-view+json": {
       "model_id": "517260bf39f14d3eb0164b4d527e1b10"
      }
     },
     "metadata": {},
     "output_type": "display_data"
    },
    {
     "name": "stdout",
     "output_type": "stream",
     "text": [
      "\n"
     ]
    },
    {
     "data": {
      "application/vnd.jupyter.widget-view+json": {
       "model_id": "2ae6704817f548f0903669ed0232dd98"
      }
     },
     "metadata": {},
     "output_type": "display_data"
    },
    {
     "name": "stdout",
     "output_type": "stream",
     "text": [
      "\n"
     ]
    },
    {
     "data": {
      "application/vnd.jupyter.widget-view+json": {
       "model_id": "b90be72b3db44114ba9d334c530f0c7d"
      }
     },
     "metadata": {},
     "output_type": "display_data"
    },
    {
     "name": "stdout",
     "output_type": "stream",
     "text": [
      "\n"
     ]
    },
    {
     "data": {
      "application/vnd.jupyter.widget-view+json": {
       "model_id": "1079e4a504654f0f9938f6671b06d44b"
      }
     },
     "metadata": {},
     "output_type": "display_data"
    },
    {
     "name": "stdout",
     "output_type": "stream",
     "text": [
      "\n"
     ]
    },
    {
     "data": {
      "application/vnd.jupyter.widget-view+json": {
       "model_id": "65d7dadd04494a0d9ba5c3abbd243b37"
      }
     },
     "metadata": {},
     "output_type": "display_data"
    },
    {
     "name": "stdout",
     "output_type": "stream",
     "text": [
      "\n"
     ]
    },
    {
     "data": {
      "application/vnd.jupyter.widget-view+json": {
       "model_id": "f1aa4a66e6dd44deb2f57742355fa439"
      }
     },
     "metadata": {},
     "output_type": "display_data"
    },
    {
     "name": "stdout",
     "output_type": "stream",
     "text": [
      "\n"
     ]
    },
    {
     "data": {
      "application/vnd.jupyter.widget-view+json": {
       "model_id": "62c295ecce614b51a6d7fd44065cd16e"
      }
     },
     "metadata": {},
     "output_type": "display_data"
    },
    {
     "name": "stdout",
     "output_type": "stream",
     "text": [
      "\n"
     ]
    },
    {
     "data": {
      "application/vnd.jupyter.widget-view+json": {
       "model_id": "9f2d5dada38e4b62bda04890da8284e5"
      }
     },
     "metadata": {},
     "output_type": "display_data"
    },
    {
     "name": "stdout",
     "output_type": "stream",
     "text": [
      "\n"
     ]
    },
    {
     "data": {
      "application/vnd.jupyter.widget-view+json": {
       "model_id": "b80a63456b39431aa7898d1e8e9f033e"
      }
     },
     "metadata": {},
     "output_type": "display_data"
    },
    {
     "name": "stdout",
     "output_type": "stream",
     "text": [
      "\n"
     ]
    },
    {
     "data": {
      "application/vnd.jupyter.widget-view+json": {
       "model_id": "1e2ae9bd425945409ce287d42b1a81f8"
      }
     },
     "metadata": {},
     "output_type": "display_data"
    },
    {
     "name": "stdout",
     "output_type": "stream",
     "text": [
      "\n"
     ]
    },
    {
     "data": {
      "application/vnd.jupyter.widget-view+json": {
       "model_id": "483ff15e9b7b45958da043af6dcbbbab"
      }
     },
     "metadata": {},
     "output_type": "display_data"
    },
    {
     "name": "stdout",
     "output_type": "stream",
     "text": [
      "\n"
     ]
    },
    {
     "data": {
      "application/vnd.jupyter.widget-view+json": {
       "model_id": "8f6a18922e67420481f4f665d077258c"
      }
     },
     "metadata": {},
     "output_type": "display_data"
    },
    {
     "name": "stdout",
     "output_type": "stream",
     "text": [
      "\n"
     ]
    },
    {
     "data": {
      "application/vnd.jupyter.widget-view+json": {
       "model_id": "b7d633020c544640b5f34b13c334530a"
      }
     },
     "metadata": {},
     "output_type": "display_data"
    },
    {
     "name": "stdout",
     "output_type": "stream",
     "text": [
      "\n"
     ]
    },
    {
     "data": {
      "application/vnd.jupyter.widget-view+json": {
       "model_id": "ffa9833a65bb40038541af8c429f370f"
      }
     },
     "metadata": {},
     "output_type": "display_data"
    },
    {
     "name": "stdout",
     "output_type": "stream",
     "text": [
      "\n"
     ]
    },
    {
     "data": {
      "application/vnd.jupyter.widget-view+json": {
       "model_id": "c3a004e8c13144a4b7d80fb9b9f7d9d3"
      }
     },
     "metadata": {},
     "output_type": "display_data"
    },
    {
     "name": "stdout",
     "output_type": "stream",
     "text": [
      "\n"
     ]
    },
    {
     "data": {
      "application/vnd.jupyter.widget-view+json": {
       "model_id": "0c5110b0f96a42ddacf90ce6fd2058f9"
      }
     },
     "metadata": {},
     "output_type": "display_data"
    },
    {
     "name": "stdout",
     "output_type": "stream",
     "text": [
      "\n"
     ]
    },
    {
     "data": {
      "application/vnd.jupyter.widget-view+json": {
       "model_id": "e9ea5c4570814955b84482701c13df59"
      }
     },
     "metadata": {},
     "output_type": "display_data"
    },
    {
     "name": "stdout",
     "output_type": "stream",
     "text": [
      "\n"
     ]
    },
    {
     "data": {
      "application/vnd.jupyter.widget-view+json": {
       "model_id": "061623df3f8e4be99c13fd877fc57e2a"
      }
     },
     "metadata": {},
     "output_type": "display_data"
    },
    {
     "name": "stdout",
     "output_type": "stream",
     "text": [
      "\n"
     ]
    },
    {
     "data": {
      "application/vnd.jupyter.widget-view+json": {
       "model_id": "676a1a056b5444cea949010760741439"
      }
     },
     "metadata": {},
     "output_type": "display_data"
    },
    {
     "name": "stdout",
     "output_type": "stream",
     "text": [
      "\n"
     ]
    },
    {
     "data": {
      "application/vnd.jupyter.widget-view+json": {
       "model_id": "791f4e8d06da401f8390405b377db65a"
      }
     },
     "metadata": {},
     "output_type": "display_data"
    },
    {
     "name": "stdout",
     "output_type": "stream",
     "text": [
      "\n"
     ]
    },
    {
     "data": {
      "application/vnd.jupyter.widget-view+json": {
       "model_id": "9458f2d64868413da3a08538505ee75a"
      }
     },
     "metadata": {},
     "output_type": "display_data"
    },
    {
     "name": "stdout",
     "output_type": "stream",
     "text": [
      "\n"
     ]
    },
    {
     "data": {
      "application/vnd.jupyter.widget-view+json": {
       "model_id": "5de6413e476c4e4d9cf697620ce788f4"
      }
     },
     "metadata": {},
     "output_type": "display_data"
    },
    {
     "name": "stdout",
     "output_type": "stream",
     "text": [
      "\n"
     ]
    },
    {
     "data": {
      "application/vnd.jupyter.widget-view+json": {
       "model_id": "35e781726ee544cca36879d67e0a7a0a"
      }
     },
     "metadata": {},
     "output_type": "display_data"
    },
    {
     "name": "stdout",
     "output_type": "stream",
     "text": [
      "\n"
     ]
    },
    {
     "data": {
      "application/vnd.jupyter.widget-view+json": {
       "model_id": "fa59c2766c8d42028385f377cd00afde"
      }
     },
     "metadata": {},
     "output_type": "display_data"
    },
    {
     "name": "stdout",
     "output_type": "stream",
     "text": [
      "\n"
     ]
    },
    {
     "data": {
      "application/vnd.jupyter.widget-view+json": {
       "model_id": "538bfc13b294483ca0b675a45af18295"
      }
     },
     "metadata": {},
     "output_type": "display_data"
    },
    {
     "name": "stdout",
     "output_type": "stream",
     "text": [
      "\n"
     ]
    }
   ],
   "source": [
    "for i in xrange(0,1647,61):\n",
    "    sample_cross_join = merge(movie_data.loc[i:i+60,['movie id','director','creator','actor_list','genre','ones']],movie_data.loc[:,['movie id','director','creator','actor_list','genre','ones']],on = \"ones\")\n",
    "    tq().pandas(desc = \"my bar\")\n",
    "    similarity_matrix = sample_cross_join.progress_apply(calc_similarity,axis = 1)\n",
    "    similarity_matrix.to_csv('similarity.csv',mode = 'a')\n",
    "    del sample_cross_join,similarity_matrix"
   ]
  },
  {
   "cell_type": "code",
   "execution_count": 6,
   "metadata": {
    "collapsed": false,
    "deletable": true,
    "editable": true
   },
   "outputs": [
    {
     "name": "stderr",
     "output_type": "stream",
     "text": [
      "/home/jatin/anaconda2/envs/gl-env/lib/python2.7/site-packages/IPython/core/interactiveshell.py:2723: DtypeWarning: Columns (1,2,3) have mixed types. Specify dtype option on import or set low_memory=False.\n",
      "  interactivity=interactivity, compiler=compiler, result=result)\n"
     ]
    },
    {
     "data": {
      "text/plain": [
       "(2712635, 4)"
      ]
     },
     "execution_count": 6,
     "metadata": {},
     "output_type": "execute_result"
    }
   ],
   "source": [
    "similarity_matrix = pd.read_csv('similarity.csv')\n",
    "similarity_matrix.shape"
   ]
  },
  {
   "cell_type": "code",
   "execution_count": 8,
   "metadata": {
    "collapsed": false,
    "deletable": true,
    "editable": true
   },
   "outputs": [
    {
     "data": {
      "text/html": [
       "<div>\n",
       "<table border=\"1\" class=\"dataframe\">\n",
       "  <thead>\n",
       "    <tr style=\"text-align: right;\">\n",
       "      <th></th>\n",
       "      <th>_id</th>\n",
       "      <th>movie id</th>\n",
       "      <th>movie title</th>\n",
       "      <th>director</th>\n",
       "      <th>creator</th>\n",
       "      <th>actor_list</th>\n",
       "      <th>genre</th>\n",
       "      <th>release_date</th>\n",
       "      <th>ones</th>\n",
       "    </tr>\n",
       "  </thead>\n",
       "  <tbody>\n",
       "    <tr>\n",
       "      <th>0</th>\n",
       "      <td>tt0114709</td>\n",
       "      <td>1</td>\n",
       "      <td>Toy Story (1995)</td>\n",
       "      <td>[\"John Lasseter\"]</td>\n",
       "      <td>[\"John Lasseter\",\"Pete Docter\",\"Pixar Animatio...</td>\n",
       "      <td>[\"Tom Hanks\",\"Tim Allen\",\"Don Rickles\",\"Jim Va...</td>\n",
       "      <td>[\" Animation\",\" Adventure\",\" Comedy\",\" Family\"...</td>\n",
       "      <td>1995-11-22</td>\n",
       "      <td>1</td>\n",
       "    </tr>\n",
       "    <tr>\n",
       "      <th>1</th>\n",
       "      <td>tt0113189</td>\n",
       "      <td>2</td>\n",
       "      <td>GoldenEye (1995)</td>\n",
       "      <td>[\"Martin Campbell\"]</td>\n",
       "      <td>[\"Ian Fleming\",\"Michael France\",\"Eon Productio...</td>\n",
       "      <td>[\"Pierce Brosnan\",\"Sean Bean\",\"Izabella Scorup...</td>\n",
       "      <td>[\" Action\",\" Adventure\",\" Thriller\"]</td>\n",
       "      <td>1995-11-17</td>\n",
       "      <td>1</td>\n",
       "    </tr>\n",
       "    <tr>\n",
       "      <th>2</th>\n",
       "      <td>tt0113101</td>\n",
       "      <td>3</td>\n",
       "      <td>Four Rooms (1995)</td>\n",
       "      <td>[\"Allison Anders\",\"Alexandre Rockwell\"]</td>\n",
       "      <td>[\"Allison Anders\",\"Alexandre Rockwell\",\"Mirama...</td>\n",
       "      <td>[\"Sammi Davis\",\"Amanda De Cadenet\",\"Valeria Go...</td>\n",
       "      <td>[\" Comedy\"]</td>\n",
       "      <td>1995-12-25</td>\n",
       "      <td>1</td>\n",
       "    </tr>\n",
       "    <tr>\n",
       "      <th>3</th>\n",
       "      <td>tt0113161</td>\n",
       "      <td>4</td>\n",
       "      <td>Get Shorty (1995)</td>\n",
       "      <td>[\"Barry Sonnenfeld\"]</td>\n",
       "      <td>[\"Elmore Leonard\",\"Scott Frank\",\"Metro-Goldwyn...</td>\n",
       "      <td>[\"John Travolta\",\"Gene Hackman\",\"Rene Russo\",\"...</td>\n",
       "      <td>[\" Comedy\",\" Crime\",\" Thriller\"]</td>\n",
       "      <td>1995-10-20</td>\n",
       "      <td>1</td>\n",
       "    </tr>\n",
       "    <tr>\n",
       "      <th>4</th>\n",
       "      <td>tt0112722</td>\n",
       "      <td>5</td>\n",
       "      <td>Copycat (1995)</td>\n",
       "      <td>[\"Jon Amiel\"]</td>\n",
       "      <td>[\"Ann Biderman\",\"David Madsen\",\"Regency Enterp...</td>\n",
       "      <td>[\"Sigourney Weaver\",\"Holly Hunter\",\"Dermot Mul...</td>\n",
       "      <td>[\" Crime\",\" Drama\",\" Mystery\",\" Thriller\"]</td>\n",
       "      <td>1995-10-27</td>\n",
       "      <td>1</td>\n",
       "    </tr>\n",
       "    <tr>\n",
       "      <th>5</th>\n",
       "      <td>tt0115012</td>\n",
       "      <td>6</td>\n",
       "      <td>Shanghai Triad (Yao a yao yao dao waipo qiao) ...</td>\n",
       "      <td>[\"Yimou Zhang\"]</td>\n",
       "      <td>[\"Bi Feiyu\",\"Li Xiao\",\"Alpha Films\",\"La Sept C...</td>\n",
       "      <td>[\"Li Gong\",\"Baotian Li\",\"Xiaoxiao Wang\",\"Xueji...</td>\n",
       "      <td>[\" Crime\",\" Drama\",\" Romance\",\" Thriller\"]</td>\n",
       "      <td>1995-11-08</td>\n",
       "      <td>1</td>\n",
       "    </tr>\n",
       "    <tr>\n",
       "      <th>6</th>\n",
       "      <td>tt0114746</td>\n",
       "      <td>7</td>\n",
       "      <td>Twelve Monkeys (1995)</td>\n",
       "      <td>[\"Terry Gilliam\"]</td>\n",
       "      <td>[\"Chris Marker\",\"David Webb Peoples\",\"Universa...</td>\n",
       "      <td>[\"Joseph Melito\",\"Bruce Willis\",\"Jon Seda\",\"Mi...</td>\n",
       "      <td>[\" Mystery\",\" Sci-Fi\",\" Thriller\"]</td>\n",
       "      <td>1996-01-05</td>\n",
       "      <td>1</td>\n",
       "    </tr>\n",
       "    <tr>\n",
       "      <th>7</th>\n",
       "      <td>tt0112431</td>\n",
       "      <td>8</td>\n",
       "      <td>Babe (1995)</td>\n",
       "      <td>[\"Chris Noonan\"]</td>\n",
       "      <td>[\"Dick King-Smith\",\"George Miller\",\"Universal ...</td>\n",
       "      <td>[\"Christine Cavanaugh\",\"Miriam Margolyes\",\"Dan...</td>\n",
       "      <td>[\" Comedy\",\" Drama\",\" Family\"]</td>\n",
       "      <td>1995-08-04</td>\n",
       "      <td>1</td>\n",
       "    </tr>\n",
       "    <tr>\n",
       "      <th>8</th>\n",
       "      <td>tt0112818</td>\n",
       "      <td>9</td>\n",
       "      <td>Dead Man Walking (1995)</td>\n",
       "      <td>[\"Tim Robbins\"]</td>\n",
       "      <td>[\"Helen Prejean\",\"Tim Robbins\",\"Havoc\",\"Polygr...</td>\n",
       "      <td>[\"Susan Sarandon\",\"Sean Penn\",\"Robert Prosky\",...</td>\n",
       "      <td>[\" Crime\",\" Drama\"]</td>\n",
       "      <td>1996-02-02</td>\n",
       "      <td>1</td>\n",
       "    </tr>\n",
       "    <tr>\n",
       "      <th>9</th>\n",
       "      <td>tt0114279</td>\n",
       "      <td>10</td>\n",
       "      <td>Richard III (1995)</td>\n",
       "      <td>[\"Richard Loncraine\"]</td>\n",
       "      <td>[\"William Shakespeare\",\"Ian McKellen\",\"Mayfair...</td>\n",
       "      <td>[\"Ian McKellen\",\"Annette Bening\",\"Jim Broadben...</td>\n",
       "      <td>[\" Drama\",\" War\"]</td>\n",
       "      <td>1995-12-29</td>\n",
       "      <td>1</td>\n",
       "    </tr>\n",
       "    <tr>\n",
       "      <th>10</th>\n",
       "      <td>tt0114369</td>\n",
       "      <td>11</td>\n",
       "      <td>Seven (Se7en) (1995)</td>\n",
       "      <td>[\"David Fincher\"]</td>\n",
       "      <td>[\"Andrew Kevin Walker\",\"Cecchi Gori Pictures\",...</td>\n",
       "      <td>[\"Morgan Freeman\",\"Andrew Kevin Walker\",\"Kevin...</td>\n",
       "      <td>[\" Crime\",\" Drama\",\" Mystery\",\" Thriller\"]</td>\n",
       "      <td>1995-09-22</td>\n",
       "      <td>1</td>\n",
       "    </tr>\n",
       "    <tr>\n",
       "      <th>11</th>\n",
       "      <td>tt0114814</td>\n",
       "      <td>12</td>\n",
       "      <td>Usual Suspects, The (1995)</td>\n",
       "      <td>[\"Bryan Singer\"]</td>\n",
       "      <td>[\"Christopher McQuarrie\",\"PolyGram Filmed Ente...</td>\n",
       "      <td>[\"Stephen Baldwin\",\"Gabriel Byrne\",\"Benicio De...</td>\n",
       "      <td>[\" Crime\",\" Drama\",\" Mystery\",\" Thriller\"]</td>\n",
       "      <td>1995-09-15</td>\n",
       "      <td>1</td>\n",
       "    </tr>\n",
       "    <tr>\n",
       "      <th>12</th>\n",
       "      <td>tt0113819</td>\n",
       "      <td>13</td>\n",
       "      <td>Mighty Aphrodite (1995)</td>\n",
       "      <td>[\"Woody Allen\"]</td>\n",
       "      <td>[\"Woody Allen\",\"Sweetland Films\",\"Magnolia Pic...</td>\n",
       "      <td>[\"Pamela Blair\",\"Rene Ceballos\",\"Elie Chaib\",\"...</td>\n",
       "      <td>[\" Comedy\",\" Fantasy\",\" Romance\"]</td>\n",
       "      <td>1995-11-10</td>\n",
       "      <td>1</td>\n",
       "    </tr>\n",
       "    <tr>\n",
       "      <th>13</th>\n",
       "      <td>tt0110877</td>\n",
       "      <td>14</td>\n",
       "      <td>Postino, Il (1994)</td>\n",
       "      <td>[\"Michael Radford\"]</td>\n",
       "      <td>[\"Antonio Skármeta\",\"Furio Scarpelli\",\"Cecchi ...</td>\n",
       "      <td>[\"Philippe Noiret\",\"Massimo Troisi\",\"Maria Gra...</td>\n",
       "      <td>[\" Biography\",\" Comedy\",\" Drama\",\" Romance\"]</td>\n",
       "      <td>1994-09-22</td>\n",
       "      <td>1</td>\n",
       "    </tr>\n",
       "    <tr>\n",
       "      <th>14</th>\n",
       "      <td>tt0113862</td>\n",
       "      <td>15</td>\n",
       "      <td>Mr. Holland's Opus (1995)</td>\n",
       "      <td>[\"Stephen Herek\"]</td>\n",
       "      <td>[\"Patrick Sheane Duncan\",\"Hollywood Pictures\",...</td>\n",
       "      <td>[\"Richard Dreyfuss\",\"Glenne Headly\",\"Jay Thoma...</td>\n",
       "      <td>[\" Drama\",\" Music\"]</td>\n",
       "      <td>1996-01-19</td>\n",
       "      <td>1</td>\n",
       "    </tr>\n",
       "    <tr>\n",
       "      <th>15</th>\n",
       "      <td>tt0113149</td>\n",
       "      <td>16</td>\n",
       "      <td>French Twist (Gazon maudit) (1995)</td>\n",
       "      <td>[\"Josiane Balasko\"]</td>\n",
       "      <td>[\"Patrick Aubrée\",\"Josiane Balasko\",\"Canal+\",\"...</td>\n",
       "      <td>[\"Victoria Abril\",\"Josiane Balasko\",\"Alain Cha...</td>\n",
       "      <td>[\" Comedy\"]</td>\n",
       "      <td>1995-02-08</td>\n",
       "      <td>1</td>\n",
       "    </tr>\n",
       "    <tr>\n",
       "      <th>16</th>\n",
       "      <td>tt0116367</td>\n",
       "      <td>17</td>\n",
       "      <td>From Dusk Till Dawn (1996)</td>\n",
       "      <td>[\"Robert Rodriguez\"]</td>\n",
       "      <td>[\"Robert Kurtzman\",\"Quentin Tarantino\",\"Dimens...</td>\n",
       "      <td>[\"George Clooney\",\"Quentin Tarantino\",\"Harvey ...</td>\n",
       "      <td>[\" Action\",\" Crime\",\" Horror\"]</td>\n",
       "      <td>1996-01-19</td>\n",
       "      <td>1</td>\n",
       "    </tr>\n",
       "    <tr>\n",
       "      <th>17</th>\n",
       "      <td>tt0112445</td>\n",
       "      <td>18</td>\n",
       "      <td>White Balloon, The (1995)</td>\n",
       "      <td>[\"Jafar Panahi\"]</td>\n",
       "      <td>[\"Abbas Kiarostami\",\"Jafar Panahi\",\"Ferdos Fil...</td>\n",
       "      <td>[\"Aida Mohammadkhani\",\"Mohsen Kafili\",\"Feresht...</td>\n",
       "      <td>[\" Drama\",\" Family\"]</td>\n",
       "      <td>1995-11-27</td>\n",
       "      <td>1</td>\n",
       "    </tr>\n",
       "    <tr>\n",
       "      <th>18</th>\n",
       "      <td>tt0112379</td>\n",
       "      <td>19</td>\n",
       "      <td>Antonia's Line (1995)</td>\n",
       "      <td>[\"Marleen Gorris\"]</td>\n",
       "      <td>[\"Marleen Gorris\",\"Bergen\",\"Prime Time\",\"Bard ...</td>\n",
       "      <td>[\"Willeke van Ammelrooy\",\"Els Dottermans\",\"Dor...</td>\n",
       "      <td>[\" Comedy\",\" Drama\"]</td>\n",
       "      <td>1995-09-21</td>\n",
       "      <td>1</td>\n",
       "    </tr>\n",
       "    <tr>\n",
       "      <th>19</th>\n",
       "      <td>tt0112365</td>\n",
       "      <td>20</td>\n",
       "      <td>Angels and Insects (1995)</td>\n",
       "      <td>[\"Philip Haas\"]</td>\n",
       "      <td>[\"A.S. Byatt\",\"Belinda Haas\",\"Playhouse Intern...</td>\n",
       "      <td>[\"Mark Rylance\",\"Kristin Scott Thomas\",\"Patsy ...</td>\n",
       "      <td>[\" Drama\",\" Romance\"]</td>\n",
       "      <td>1995-12-08</td>\n",
       "      <td>1</td>\n",
       "    </tr>\n",
       "    <tr>\n",
       "      <th>20</th>\n",
       "      <td>tt0117110</td>\n",
       "      <td>21</td>\n",
       "      <td>Muppet Treasure Island (1996)</td>\n",
       "      <td>[\"Brian Henson\"]</td>\n",
       "      <td>[\"Robert Louis Stevenson\",\"Jerry Juhl\",\"Jim He...</td>\n",
       "      <td>[\"Tim Curry\",\"Billy Connolly\",\"Jennifer Saunde...</td>\n",
       "      <td>[\" Action\",\" Adventure\",\" Comedy\",\" Family\",\" ...</td>\n",
       "      <td>1996-02-16</td>\n",
       "      <td>1</td>\n",
       "    </tr>\n",
       "    <tr>\n",
       "      <th>21</th>\n",
       "      <td>tt0112573</td>\n",
       "      <td>22</td>\n",
       "      <td>Braveheart (1995)</td>\n",
       "      <td>[\"Mel Gibson\"]</td>\n",
       "      <td>[\"Randall Wallace\",\"Icon Entertainment Interna...</td>\n",
       "      <td>[\"James Robinson\",\"Sean Lawlor\",\"Sandy Nelson\"...</td>\n",
       "      <td>[\" Biography\",\" Drama\",\" History\",\" War\"]</td>\n",
       "      <td>1995-05-24</td>\n",
       "      <td>1</td>\n",
       "    </tr>\n",
       "    <tr>\n",
       "      <th>22</th>\n",
       "      <td>tt0075314</td>\n",
       "      <td>23</td>\n",
       "      <td>Taxi Driver (1976)</td>\n",
       "      <td>[\"Martin Scorsese\"]</td>\n",
       "      <td>[\"Paul Schrader\",\"Columbia Pictures Corporatio...</td>\n",
       "      <td>[\"Diahnne Abbott\",\"Frank Adu\",\"Victor Argo\",\"G...</td>\n",
       "      <td>[\" Crime\",\" Drama\"]</td>\n",
       "      <td>1976-02-08</td>\n",
       "      <td>1</td>\n",
       "    </tr>\n",
       "    <tr>\n",
       "      <th>23</th>\n",
       "      <td>tt0113326</td>\n",
       "      <td>24</td>\n",
       "      <td>Rumble in the Bronx (1995)</td>\n",
       "      <td>[\"Stanley Tong\"]</td>\n",
       "      <td>[\"Edward Tang\",\"Fibe Ma\",\"Golden Harvest Compa...</td>\n",
       "      <td>[\"Jackie Chan\",\"Anita Mui\",\"Françoise Yip\",\"Bi...</td>\n",
       "      <td>[\" Action\",\" Comedy\",\" Crime\",\" Thriller\"]</td>\n",
       "      <td>1995-01-21</td>\n",
       "      <td>1</td>\n",
       "    </tr>\n",
       "    <tr>\n",
       "      <th>24</th>\n",
       "      <td>tt0115685</td>\n",
       "      <td>25</td>\n",
       "      <td>Birdcage, The (1996)</td>\n",
       "      <td>[\"Mike Nichols\"]</td>\n",
       "      <td>[\"Jean Poiret\",\"Francis Veber\",\"United Artists\"]</td>\n",
       "      <td>[\"Robin Williams\",\"Gene Hackman\",\"Nathan Lane\"...</td>\n",
       "      <td>[\" Comedy\"]</td>\n",
       "      <td>1996-03-08</td>\n",
       "      <td>1</td>\n",
       "    </tr>\n",
       "    <tr>\n",
       "      <th>25</th>\n",
       "      <td>tt0112585</td>\n",
       "      <td>26</td>\n",
       "      <td>Brothers McMullen, The (1995)</td>\n",
       "      <td>[\"Edward Burns\"]</td>\n",
       "      <td>[\"Edward Burns\",\"Brothers McMullen Productions...</td>\n",
       "      <td>[\"Shari Albert\",\"Maxine Bahns\",\"Catharine Bolz...</td>\n",
       "      <td>[\" Comedy\",\" Drama\",\" Romance\"]</td>\n",
       "      <td>1995-08-09</td>\n",
       "      <td>1</td>\n",
       "    </tr>\n",
       "    <tr>\n",
       "      <th>26</th>\n",
       "      <td>tt0112442</td>\n",
       "      <td>27</td>\n",
       "      <td>Bad Boys (1995)</td>\n",
       "      <td>[\"Michael Bay\"]</td>\n",
       "      <td>[\"George Gallo\",\"Michael Barrie\",\"Don Simpson/...</td>\n",
       "      <td>[\"Lisa Boyle\",\"Will Smith\",\"Martin Lawrence\",\"...</td>\n",
       "      <td>[\" Action\",\" Comedy\",\" Crime\",\" Drama\",\" Thril...</td>\n",
       "      <td>1995-04-07</td>\n",
       "      <td>1</td>\n",
       "    </tr>\n",
       "    <tr>\n",
       "      <th>27</th>\n",
       "      <td>tt0112384</td>\n",
       "      <td>28</td>\n",
       "      <td>Apollo 13 (1995)</td>\n",
       "      <td>[\"Ron Howard\"]</td>\n",
       "      <td>[\"Jim Lovell\",\"Jeffrey Kluger\",\"Universal Pict...</td>\n",
       "      <td>[\"Tom Hanks\",\"Bill Paxton\",\"Kevin Bacon\",\"Gary...</td>\n",
       "      <td>[\" Adventure\",\" Drama\",\" History\"]</td>\n",
       "      <td>1995-06-30</td>\n",
       "      <td>1</td>\n",
       "    </tr>\n",
       "    <tr>\n",
       "      <th>28</th>\n",
       "      <td>tt0112462</td>\n",
       "      <td>29</td>\n",
       "      <td>Batman Forever (1995)</td>\n",
       "      <td>[\"Joel Schumacher\"]</td>\n",
       "      <td>[\"Bob Kane\",\"Lee Batchler\",\"Warner Bros.\",\"Pol...</td>\n",
       "      <td>[\"Val Kilmer\",\"Tommy Lee Jones\",\"Jim Carrey\",\"...</td>\n",
       "      <td>[\" Action\",\" Adventure\",\" Fantasy\",\" Romance\"]</td>\n",
       "      <td>1995-08-15</td>\n",
       "      <td>1</td>\n",
       "    </tr>\n",
       "    <tr>\n",
       "      <th>29</th>\n",
       "      <td>tt0061395</td>\n",
       "      <td>30</td>\n",
       "      <td>Belle de jour (1967)</td>\n",
       "      <td>[\"Luis Buñuel\"]</td>\n",
       "      <td>[\"Joseph Kessel\",\"Luis Buñuel\",\"Robert et Raym...</td>\n",
       "      <td>[\"Catherine Deneuve\",\"Jean Sorel\",\"Michel Picc...</td>\n",
       "      <td>[\" Drama\"]</td>\n",
       "      <td>1967-05-24</td>\n",
       "      <td>1</td>\n",
       "    </tr>\n",
       "    <tr>\n",
       "      <th>...</th>\n",
       "      <td>...</td>\n",
       "      <td>...</td>\n",
       "      <td>...</td>\n",
       "      <td>...</td>\n",
       "      <td>...</td>\n",
       "      <td>...</td>\n",
       "      <td>...</td>\n",
       "      <td>...</td>\n",
       "      <td>...</td>\n",
       "    </tr>\n",
       "    <tr>\n",
       "      <th>1617</th>\n",
       "      <td>tt0111804</td>\n",
       "      <td>1681</td>\n",
       "      <td>You So Crazy (1994)</td>\n",
       "      <td>[\"Thomas Schlamme\"]</td>\n",
       "      <td>[\"HBO Independent Productions\",\"You So Crazy P...</td>\n",
       "      <td>[\"Martin Lawrence\"]</td>\n",
       "      <td>[\" Documentary\",\" Comedy\"]</td>\n",
       "      <td>1994-04-27</td>\n",
       "      <td>1</td>\n",
       "    </tr>\n",
       "    <tr>\n",
       "      <th>1618</th>\n",
       "      <td>tt0102855</td>\n",
       "      <td>1682</td>\n",
       "      <td>Scream of Stone (Schrei aus Stein) (1991)</td>\n",
       "      <td>[\"Werner Herzog\"]</td>\n",
       "      <td>[\"Hans-Ulrich Klenner\",\"Walter Saxer\",\"Sera Fi...</td>\n",
       "      <td>[\"Vittorio Mezzogiorno\",\"Stefan Glowacz\",\"Math...</td>\n",
       "      <td>[\" Drama\"]</td>\n",
       "      <td>1991-10-03</td>\n",
       "      <td>1</td>\n",
       "    </tr>\n",
       "    <tr>\n",
       "      <th>1619</th>\n",
       "      <td>tt0118117</td>\n",
       "      <td>1676</td>\n",
       "      <td>The War at Home (1996)</td>\n",
       "      <td>[\"Emilio Estevez\"]</td>\n",
       "      <td>[\"James Duff\",\"James Duff\",\"Motion Picture Cor...</td>\n",
       "      <td>[\"Emilio Estevez\",\"Kathy Bates\",\"Martin Sheen\"...</td>\n",
       "      <td>[\" Drama\"]</td>\n",
       "      <td>1996-11-20</td>\n",
       "      <td>1</td>\n",
       "    </tr>\n",
       "    <tr>\n",
       "      <th>1620</th>\n",
       "      <td>tt0114936</td>\n",
       "      <td>1627</td>\n",
       "      <td>The Wife (1995)</td>\n",
       "      <td>[\"Tom Noonan\"]</td>\n",
       "      <td>[\"Tom Noonan\"]</td>\n",
       "      <td>[\"Julie Hagerty\",\"Tom Noonan\",\"Wallace Shawn\",...</td>\n",
       "      <td>[\" Comedy\",\" Drama\"]</td>\n",
       "      <td>1996-08-16</td>\n",
       "      <td>1</td>\n",
       "    </tr>\n",
       "    <tr>\n",
       "      <th>1621</th>\n",
       "      <td>tt0039004</td>\n",
       "      <td>1584</td>\n",
       "      <td>Pastoral Symphony (1946)</td>\n",
       "      <td>[\"Jean Delannoy\"]</td>\n",
       "      <td>[\"André Gide\",\"Jean Aurenche\",\"Les Films Gibé\"]</td>\n",
       "      <td>[\"Michèle Morgan\",\"Pierre Blanchar\",\"Line Noro...</td>\n",
       "      <td>[\" Drama\"]</td>\n",
       "      <td>1946-09-26</td>\n",
       "      <td>1</td>\n",
       "    </tr>\n",
       "    <tr>\n",
       "      <th>1622</th>\n",
       "      <td>tt0113360</td>\n",
       "      <td>1552</td>\n",
       "      <td>The Hunted (1995)</td>\n",
       "      <td>[\"J.F. Lawton\"]</td>\n",
       "      <td>[\"J.F. Lawton\",\"Universal Pictures\",\"Davis Ent...</td>\n",
       "      <td>[\"Christopher Lambert\",\"John Lone\",\"Joan Chen\"...</td>\n",
       "      <td>[\" Action\",\" Drama\",\" Thriller\"]</td>\n",
       "      <td>1995-02-24</td>\n",
       "      <td>1</td>\n",
       "    </tr>\n",
       "    <tr>\n",
       "      <th>1623</th>\n",
       "      <td>tt0114435</td>\n",
       "      <td>1547</td>\n",
       "      <td>The Show (1995)</td>\n",
       "      <td>[\"Brian Robbins\"]</td>\n",
       "      <td>[\"Rysher Entertainment\",\"Savoy Pictures\",\"Toll...</td>\n",
       "      <td>[\"Afrika Bambaataa\",\"Kurtis Blow\",\"Sean Combs\"...</td>\n",
       "      <td>[\" Documentary\",\" Music\"]</td>\n",
       "      <td>1995-08-25</td>\n",
       "      <td>1</td>\n",
       "    </tr>\n",
       "    <tr>\n",
       "      <th>1624</th>\n",
       "      <td>tt0106379</td>\n",
       "      <td>1539</td>\n",
       "      <td>Being Human (1994)</td>\n",
       "      <td>[\"Bill Forsyth\"]</td>\n",
       "      <td>[\"Bill Forsyth\",\"Warner Bros.\",\"Enigma Product...</td>\n",
       "      <td>[\"Robin Williams\",\"Kelly Hunter\",\"Maudie Johns...</td>\n",
       "      <td>[\" Comedy\",\" Drama\"]</td>\n",
       "      <td>1994-05-06</td>\n",
       "      <td>1</td>\n",
       "    </tr>\n",
       "    <tr>\n",
       "      <th>1625</th>\n",
       "      <td>tt0113043</td>\n",
       "      <td>1520</td>\n",
       "      <td>The Fear (1995)</td>\n",
       "      <td>[\"Vincent Robert\"]</td>\n",
       "      <td>[\"Ron Ford\",\"Ron Ford\",\"A-Pix Entertainment\",\"...</td>\n",
       "      <td>[\"Eddie Bowz\",\"Heather Medway\",\"Ann Turkel\",\"V...</td>\n",
       "      <td>[\" Horror\"]</td>\n",
       "      <td>1995-01-20</td>\n",
       "      <td>1</td>\n",
       "    </tr>\n",
       "    <tr>\n",
       "      <th>1626</th>\n",
       "      <td>tt0114888</td>\n",
       "      <td>1423</td>\n",
       "      <td>The Walking Dead (1995)</td>\n",
       "      <td>[\"Preston A. Whitmore II\"]</td>\n",
       "      <td>[\"Preston A. Whitmore II\",\"Savoy Pictures\",\"Pr...</td>\n",
       "      <td>[\"Allen Payne\",\"Eddie Griffin\",\"Joe Morton\",\"V...</td>\n",
       "      <td>[\" Drama\",\" War\"]</td>\n",
       "      <td>1995-02-24</td>\n",
       "      <td>1</td>\n",
       "    </tr>\n",
       "    <tr>\n",
       "      <th>1627</th>\n",
       "      <td>tt0078155</td>\n",
       "      <td>1420</td>\n",
       "      <td>Rescue from Gilligan's Island (TV Movie 1978)</td>\n",
       "      <td>[\"Leslie H. Martinson\"]</td>\n",
       "      <td>[\"Sherwood Schwartz\",\"Sherwood Schwartz\",\"Redw...</td>\n",
       "      <td>[\"Bob Denver\",\"Alan Hale Jr.\",\"Jim Backus\",\"Na...</td>\n",
       "      <td>[\" Comedy\"]</td>\n",
       "      <td>1978-10-14</td>\n",
       "      <td>1</td>\n",
       "    </tr>\n",
       "    <tr>\n",
       "      <th>1628</th>\n",
       "      <td>tt0109890</td>\n",
       "      <td>1303</td>\n",
       "      <td>The Getaway (1994)</td>\n",
       "      <td>[\"Roger Donaldson\"]</td>\n",
       "      <td>[\"Jim Thompson\",\"Walter Hill\",\"Universal Pictu...</td>\n",
       "      <td>[\"Alec Baldwin\",\"Kim Basinger\",\"Michael Madsen...</td>\n",
       "      <td>[\" Action\",\" Adventure\",\" Crime\",\" Drama\",\" Ro...</td>\n",
       "      <td>1994-02-11</td>\n",
       "      <td>1</td>\n",
       "    </tr>\n",
       "    <tr>\n",
       "      <th>1629</th>\n",
       "      <td>tt0113448</td>\n",
       "      <td>1289</td>\n",
       "      <td>Jack &amp; Sarah (1995)</td>\n",
       "      <td>[\"Tim Sullivan\"]</td>\n",
       "      <td>[\"Tim Sullivan\",\"British Screen Productions\",\"...</td>\n",
       "      <td>[\"Richard E. Grant\",\"Samantha Mathis\",\"Judi De...</td>\n",
       "      <td>[\" Comedy\",\" Drama\",\" Romance\"]</td>\n",
       "      <td>1995-06-02</td>\n",
       "      <td>1</td>\n",
       "    </tr>\n",
       "    <tr>\n",
       "      <th>1630</th>\n",
       "      <td>tt0114131</td>\n",
       "      <td>1259</td>\n",
       "      <td>Pie in the Sky (1996)</td>\n",
       "      <td>[\"Bryan Gordon\"]</td>\n",
       "      <td>[\"Bryan Gordon\",\"Fine Line Features\",\"New Line...</td>\n",
       "      <td>[\"Josh Charles\",\"Anne Heche\",\"John Goodman\",\"C...</td>\n",
       "      <td>[\" Comedy\",\" Romance\"]</td>\n",
       "      <td>1996-02-09</td>\n",
       "      <td>1</td>\n",
       "    </tr>\n",
       "    <tr>\n",
       "      <th>1631</th>\n",
       "      <td>tt0106977</td>\n",
       "      <td>79</td>\n",
       "      <td>The Fugitive (1993)</td>\n",
       "      <td>[\"Andrew Davis\"]</td>\n",
       "      <td>[\"Jeb Stuart\",\"David Twohy\",\"Warner Bros.\"]</td>\n",
       "      <td>[\"Harrison Ford\",\"Tommy Lee Jones\",\"Sela Ward\"...</td>\n",
       "      <td>[\" Action\",\" Crime\",\" Drama\",\" Mystery\",\" Thri...</td>\n",
       "      <td>1993-08-06</td>\n",
       "      <td>1</td>\n",
       "    </tr>\n",
       "    <tr>\n",
       "      <th>1632</th>\n",
       "      <td>tt0109066</td>\n",
       "      <td>1536</td>\n",
       "      <td>Vive L'Amour (1994)</td>\n",
       "      <td>[\"Ming-liang Tsai\"]</td>\n",
       "      <td>[\"Ming-liang Tsai\",\"Yi-chun Tsai\",\"Central Mot...</td>\n",
       "      <td>[\"Chao-jung Chen\",\"Kang-sheng Lee\",\"Kuei-Mei Y...</td>\n",
       "      <td>[\" Drama\"]</td>\n",
       "      <td>1994-11-18</td>\n",
       "      <td>1</td>\n",
       "    </tr>\n",
       "    <tr>\n",
       "      <th>1633</th>\n",
       "      <td>tt0115549</td>\n",
       "      <td>1398</td>\n",
       "      <td>Anna Oz (1996)</td>\n",
       "      <td>[\"Eric Rochant\"]</td>\n",
       "      <td>[\"Gérard Brach\",\"Eric Rochant\",\"Les Production...</td>\n",
       "      <td>[\"Charlotte Gainsbourg\",\"Gérard Lanvin\",\"Sami ...</td>\n",
       "      <td>[\" Drama\",\" Mystery\",\" Thriller\"]</td>\n",
       "      <td>1996-10-02</td>\n",
       "      <td>1</td>\n",
       "    </tr>\n",
       "    <tr>\n",
       "      <th>1634</th>\n",
       "      <td>tt0112716</td>\n",
       "      <td>1342</td>\n",
       "      <td>The Convent (1995)</td>\n",
       "      <td>[\"Manoel de Oliveira\"]</td>\n",
       "      <td>[\"Manoel de Oliveira\",\"Agustina Bessa-Luís\",\"M...</td>\n",
       "      <td>[\"Catherine Deneuve\",\"John Malkovich\",\"Luís Mi...</td>\n",
       "      <td>[\" Drama\",\" Mystery\"]</td>\n",
       "      <td>1995-09-06</td>\n",
       "      <td>1</td>\n",
       "    </tr>\n",
       "    <tr>\n",
       "      <th>1635</th>\n",
       "      <td>tt0032143</td>\n",
       "      <td>1172</td>\n",
       "      <td>The Women (1939)</td>\n",
       "      <td>[\"George Cukor\"]</td>\n",
       "      <td>[\"Clare Boothe Luce\",\"Anita Loos\",\"Metro-Goldw...</td>\n",
       "      <td>[\"Norma Shearer\",\"Joan Crawford\",\"Rosalind Rus...</td>\n",
       "      <td>[\" Comedy\",\" Drama\"]</td>\n",
       "      <td>1939-09-01</td>\n",
       "      <td>1</td>\n",
       "    </tr>\n",
       "    <tr>\n",
       "      <th>1636</th>\n",
       "      <td>tt0058450</td>\n",
       "      <td>1121</td>\n",
       "      <td>The Umbrellas of Cherbourg (1964)</td>\n",
       "      <td>[\"Jacques Demy\"]</td>\n",
       "      <td>[\"Jacques Demy\",\"Parc Film\",\"Madeleine Films\",...</td>\n",
       "      <td>[\"Catherine Deneuve\",\"Nino Castelnuovo\",\"Anne ...</td>\n",
       "      <td>[\" Drama\",\" Musical\",\" Romance\"]</td>\n",
       "      <td>1964-02-19</td>\n",
       "      <td>1</td>\n",
       "    </tr>\n",
       "    <tr>\n",
       "      <th>1637</th>\n",
       "      <td>tt0115710</td>\n",
       "      <td>985</td>\n",
       "      <td>Blood and Wine (1996)</td>\n",
       "      <td>[\"Bob Rafelson\"]</td>\n",
       "      <td>[\"Nick Villiers\",\"Bob Rafelson\",\"Recorded Pict...</td>\n",
       "      <td>[\"Jack Nicholson\",\"Stephen Dorff\",\"Jennifer Lo...</td>\n",
       "      <td>[\" Crime\",\" Drama\",\" Thriller\"]</td>\n",
       "      <td>1997-02-21</td>\n",
       "      <td>1</td>\n",
       "    </tr>\n",
       "    <tr>\n",
       "      <th>1638</th>\n",
       "      <td>tt0084589</td>\n",
       "      <td>638</td>\n",
       "      <td>The Return of Martin Guerre (1982)</td>\n",
       "      <td>[\"Daniel Vigne\"]</td>\n",
       "      <td>[\"Jean-Claude Carrière\",\"Janet Lewis\",\"S.F.P.C...</td>\n",
       "      <td>[\"Gérard Depardieu\",\"Nathalie Baye\",\"Maurice B...</td>\n",
       "      <td>[\" Biography\",\" Crime\",\" Drama\",\" History\",\" M...</td>\n",
       "      <td>1982-05-14</td>\n",
       "      <td>1</td>\n",
       "    </tr>\n",
       "    <tr>\n",
       "      <th>1639</th>\n",
       "      <td>tt0107146</td>\n",
       "      <td>587</td>\n",
       "      <td>The Advocate (1993)</td>\n",
       "      <td>[\"Leslie Megahey\"]</td>\n",
       "      <td>[\"Leslie Megahey\",\"British Broadcasting Corpor...</td>\n",
       "      <td>[\"Colin Firth\",\"Ian Holm\",\"Donald Pleasence\",\"...</td>\n",
       "      <td>[\" Crime\",\" Drama\",\" History\",\" Mystery\"]</td>\n",
       "      <td>1994-01-21</td>\n",
       "      <td>1</td>\n",
       "    </tr>\n",
       "    <tr>\n",
       "      <th>1640</th>\n",
       "      <td>tt0080684</td>\n",
       "      <td>172</td>\n",
       "      <td>Star Wars: Episode V - The Empire Strikes Back...</td>\n",
       "      <td>[\"Irvin Kershner\"]</td>\n",
       "      <td>[\"Leigh Brackett\",\"Lawrence Kasdan\",\"Lucasfilm\"]</td>\n",
       "      <td>[\"Mark Hamill\",\"Harrison Ford\",\"Carrie Fisher\"...</td>\n",
       "      <td>[\" Action\",\" Adventure\",\" Fantasy\",\" Sci-Fi\"]</td>\n",
       "      <td>1980-06-20</td>\n",
       "      <td>1</td>\n",
       "    </tr>\n",
       "    <tr>\n",
       "      <th>1641</th>\n",
       "      <td>tt0113362</td>\n",
       "      <td>113</td>\n",
       "      <td>The Horseman on the Roof (1995)</td>\n",
       "      <td>[\"Jean-Paul Rappeneau\"]</td>\n",
       "      <td>[\"Jean-Claude Carrière\",\"Nina Companeez\",\"Hach...</td>\n",
       "      <td>[\"Juliette Binoche\",\"Olivier Martinez\",\"Pierre...</td>\n",
       "      <td>[\" Adventure\",\" Drama\",\" Romance\",\" War\"]</td>\n",
       "      <td>1995-09-20</td>\n",
       "      <td>1</td>\n",
       "    </tr>\n",
       "    <tr>\n",
       "      <th>1642</th>\n",
       "      <td>tt0113083</td>\n",
       "      <td>927</td>\n",
       "      <td>The Flower of My Secret (1995)</td>\n",
       "      <td>[\"Pedro Almodóvar\"]</td>\n",
       "      <td>[\"Pedro Almodóvar\",\"CiBy 2000\",\"Deseo, El\"]</td>\n",
       "      <td>[\"Marisa Paredes\",\"Juan Echanove\",\"Carme Elias...</td>\n",
       "      <td>[\" Drama\"]</td>\n",
       "      <td>1995-09-22</td>\n",
       "      <td>1</td>\n",
       "    </tr>\n",
       "    <tr>\n",
       "      <th>1643</th>\n",
       "      <td>tt0117050</td>\n",
       "      <td>1251</td>\n",
       "      <td>A Chef in Love (1996)</td>\n",
       "      <td>[\"Nana Dzhordzhadze\"]</td>\n",
       "      <td>[\"Irakli Kvirikadze\",\"André Graill\",\"Les Films...</td>\n",
       "      <td>[\"Pierre Richard\",\"Micheline Presle\",\"Nino Kir...</td>\n",
       "      <td>[\" Comedy\",\" Romance\"]</td>\n",
       "      <td>1996</td>\n",
       "      <td>1</td>\n",
       "    </tr>\n",
       "    <tr>\n",
       "      <th>1644</th>\n",
       "      <td>tt0112438</td>\n",
       "      <td>1508</td>\n",
       "      <td>The Babysitter (1995)</td>\n",
       "      <td>[\"Guy Ferland\"]</td>\n",
       "      <td>[\"Robert Coover\",\"Guy Ferland\",\"Spelling Films...</td>\n",
       "      <td>[\"Alicia Silverstone\",\"Jeremy London\",\"J.T. Wa...</td>\n",
       "      <td>[\" Drama\",\" Thriller\"]</td>\n",
       "      <td>1995-10-17</td>\n",
       "      <td>1</td>\n",
       "    </tr>\n",
       "    <tr>\n",
       "      <th>1645</th>\n",
       "      <td>tt0084898</td>\n",
       "      <td>1572</td>\n",
       "      <td>Wend Kuuni (1982)</td>\n",
       "      <td>[\"Gaston Kaboré\"]</td>\n",
       "      <td>[\"Direction du Cinema de Haute Volta\"]</td>\n",
       "      <td>[\"Serge Yanogo\",\"Rosine Yanogo\",\"Joseph Nikiem...</td>\n",
       "      <td>[\" Drama\"]</td>\n",
       "      <td>1983-03-27</td>\n",
       "      <td>1</td>\n",
       "    </tr>\n",
       "    <tr>\n",
       "      <th>1646</th>\n",
       "      <td>tt0067992</td>\n",
       "      <td>151</td>\n",
       "      <td>Willy Wonka and the Chocolate Factory (1971)</td>\n",
       "      <td>[\"Mel Stuart\"]</td>\n",
       "      <td>[\"Roald Dahl\",\"Roald Dahl\",\"Wolper Pictures Lt...</td>\n",
       "      <td>[\"Gene Wilder\",\"Jack Albertson\",\"Peter Ostrum\"...</td>\n",
       "      <td>[\" Family\",\" Fantasy\",\" Musical\"]</td>\n",
       "      <td>1971-06-30</td>\n",
       "      <td>1</td>\n",
       "    </tr>\n",
       "  </tbody>\n",
       "</table>\n",
       "<p>1647 rows × 9 columns</p>\n",
       "</div>"
      ],
      "text/plain": [
       "            _id  movie id                                        movie title  \\\n",
       "0     tt0114709         1                                   Toy Story (1995)   \n",
       "1     tt0113189         2                                   GoldenEye (1995)   \n",
       "2     tt0113101         3                                  Four Rooms (1995)   \n",
       "3     tt0113161         4                                  Get Shorty (1995)   \n",
       "4     tt0112722         5                                     Copycat (1995)   \n",
       "5     tt0115012         6  Shanghai Triad (Yao a yao yao dao waipo qiao) ...   \n",
       "6     tt0114746         7                              Twelve Monkeys (1995)   \n",
       "7     tt0112431         8                                        Babe (1995)   \n",
       "8     tt0112818         9                            Dead Man Walking (1995)   \n",
       "9     tt0114279        10                                 Richard III (1995)   \n",
       "10    tt0114369        11                               Seven (Se7en) (1995)   \n",
       "11    tt0114814        12                         Usual Suspects, The (1995)   \n",
       "12    tt0113819        13                            Mighty Aphrodite (1995)   \n",
       "13    tt0110877        14                                 Postino, Il (1994)   \n",
       "14    tt0113862        15                          Mr. Holland's Opus (1995)   \n",
       "15    tt0113149        16                 French Twist (Gazon maudit) (1995)   \n",
       "16    tt0116367        17                         From Dusk Till Dawn (1996)   \n",
       "17    tt0112445        18                          White Balloon, The (1995)   \n",
       "18    tt0112379        19                              Antonia's Line (1995)   \n",
       "19    tt0112365        20                          Angels and Insects (1995)   \n",
       "20    tt0117110        21                      Muppet Treasure Island (1996)   \n",
       "21    tt0112573        22                                  Braveheart (1995)   \n",
       "22    tt0075314        23                                 Taxi Driver (1976)   \n",
       "23    tt0113326        24                         Rumble in the Bronx (1995)   \n",
       "24    tt0115685        25                               Birdcage, The (1996)   \n",
       "25    tt0112585        26                      Brothers McMullen, The (1995)   \n",
       "26    tt0112442        27                                    Bad Boys (1995)   \n",
       "27    tt0112384        28                                   Apollo 13 (1995)   \n",
       "28    tt0112462        29                              Batman Forever (1995)   \n",
       "29    tt0061395        30                               Belle de jour (1967)   \n",
       "...         ...       ...                                                ...   \n",
       "1617  tt0111804      1681                                You So Crazy (1994)   \n",
       "1618  tt0102855      1682          Scream of Stone (Schrei aus Stein) (1991)   \n",
       "1619  tt0118117      1676                             The War at Home (1996)   \n",
       "1620  tt0114936      1627                                    The Wife (1995)   \n",
       "1621  tt0039004      1584                           Pastoral Symphony (1946)   \n",
       "1622  tt0113360      1552                                  The Hunted (1995)   \n",
       "1623  tt0114435      1547                                    The Show (1995)   \n",
       "1624  tt0106379      1539                                 Being Human (1994)   \n",
       "1625  tt0113043      1520                                    The Fear (1995)   \n",
       "1626  tt0114888      1423                            The Walking Dead (1995)   \n",
       "1627  tt0078155      1420      Rescue from Gilligan's Island (TV Movie 1978)   \n",
       "1628  tt0109890      1303                                 The Getaway (1994)   \n",
       "1629  tt0113448      1289                                Jack & Sarah (1995)   \n",
       "1630  tt0114131      1259                              Pie in the Sky (1996)   \n",
       "1631  tt0106977        79                                The Fugitive (1993)   \n",
       "1632  tt0109066      1536                                Vive L'Amour (1994)   \n",
       "1633  tt0115549      1398                                     Anna Oz (1996)   \n",
       "1634  tt0112716      1342                                 The Convent (1995)   \n",
       "1635  tt0032143      1172                                   The Women (1939)   \n",
       "1636  tt0058450      1121                  The Umbrellas of Cherbourg (1964)   \n",
       "1637  tt0115710       985                              Blood and Wine (1996)   \n",
       "1638  tt0084589       638                 The Return of Martin Guerre (1982)   \n",
       "1639  tt0107146       587                                The Advocate (1993)   \n",
       "1640  tt0080684       172  Star Wars: Episode V - The Empire Strikes Back...   \n",
       "1641  tt0113362       113                    The Horseman on the Roof (1995)   \n",
       "1642  tt0113083       927                     The Flower of My Secret (1995)   \n",
       "1643  tt0117050      1251                              A Chef in Love (1996)   \n",
       "1644  tt0112438      1508                              The Babysitter (1995)   \n",
       "1645  tt0084898      1572                                  Wend Kuuni (1982)   \n",
       "1646  tt0067992       151       Willy Wonka and the Chocolate Factory (1971)   \n",
       "\n",
       "                                     director  \\\n",
       "0                           [\"John Lasseter\"]   \n",
       "1                         [\"Martin Campbell\"]   \n",
       "2     [\"Allison Anders\",\"Alexandre Rockwell\"]   \n",
       "3                        [\"Barry Sonnenfeld\"]   \n",
       "4                               [\"Jon Amiel\"]   \n",
       "5                             [\"Yimou Zhang\"]   \n",
       "6                           [\"Terry Gilliam\"]   \n",
       "7                            [\"Chris Noonan\"]   \n",
       "8                             [\"Tim Robbins\"]   \n",
       "9                       [\"Richard Loncraine\"]   \n",
       "10                          [\"David Fincher\"]   \n",
       "11                           [\"Bryan Singer\"]   \n",
       "12                            [\"Woody Allen\"]   \n",
       "13                        [\"Michael Radford\"]   \n",
       "14                          [\"Stephen Herek\"]   \n",
       "15                        [\"Josiane Balasko\"]   \n",
       "16                       [\"Robert Rodriguez\"]   \n",
       "17                           [\"Jafar Panahi\"]   \n",
       "18                         [\"Marleen Gorris\"]   \n",
       "19                            [\"Philip Haas\"]   \n",
       "20                           [\"Brian Henson\"]   \n",
       "21                             [\"Mel Gibson\"]   \n",
       "22                        [\"Martin Scorsese\"]   \n",
       "23                           [\"Stanley Tong\"]   \n",
       "24                           [\"Mike Nichols\"]   \n",
       "25                           [\"Edward Burns\"]   \n",
       "26                            [\"Michael Bay\"]   \n",
       "27                             [\"Ron Howard\"]   \n",
       "28                        [\"Joel Schumacher\"]   \n",
       "29                            [\"Luis Buñuel\"]   \n",
       "...                                       ...   \n",
       "1617                      [\"Thomas Schlamme\"]   \n",
       "1618                        [\"Werner Herzog\"]   \n",
       "1619                       [\"Emilio Estevez\"]   \n",
       "1620                           [\"Tom Noonan\"]   \n",
       "1621                        [\"Jean Delannoy\"]   \n",
       "1622                          [\"J.F. Lawton\"]   \n",
       "1623                        [\"Brian Robbins\"]   \n",
       "1624                         [\"Bill Forsyth\"]   \n",
       "1625                       [\"Vincent Robert\"]   \n",
       "1626               [\"Preston A. Whitmore II\"]   \n",
       "1627                  [\"Leslie H. Martinson\"]   \n",
       "1628                      [\"Roger Donaldson\"]   \n",
       "1629                         [\"Tim Sullivan\"]   \n",
       "1630                         [\"Bryan Gordon\"]   \n",
       "1631                         [\"Andrew Davis\"]   \n",
       "1632                      [\"Ming-liang Tsai\"]   \n",
       "1633                         [\"Eric Rochant\"]   \n",
       "1634                   [\"Manoel de Oliveira\"]   \n",
       "1635                         [\"George Cukor\"]   \n",
       "1636                         [\"Jacques Demy\"]   \n",
       "1637                         [\"Bob Rafelson\"]   \n",
       "1638                         [\"Daniel Vigne\"]   \n",
       "1639                       [\"Leslie Megahey\"]   \n",
       "1640                       [\"Irvin Kershner\"]   \n",
       "1641                  [\"Jean-Paul Rappeneau\"]   \n",
       "1642                      [\"Pedro Almodóvar\"]   \n",
       "1643                    [\"Nana Dzhordzhadze\"]   \n",
       "1644                          [\"Guy Ferland\"]   \n",
       "1645                        [\"Gaston Kaboré\"]   \n",
       "1646                           [\"Mel Stuart\"]   \n",
       "\n",
       "                                                creator  \\\n",
       "0     [\"John Lasseter\",\"Pete Docter\",\"Pixar Animatio...   \n",
       "1     [\"Ian Fleming\",\"Michael France\",\"Eon Productio...   \n",
       "2     [\"Allison Anders\",\"Alexandre Rockwell\",\"Mirama...   \n",
       "3     [\"Elmore Leonard\",\"Scott Frank\",\"Metro-Goldwyn...   \n",
       "4     [\"Ann Biderman\",\"David Madsen\",\"Regency Enterp...   \n",
       "5     [\"Bi Feiyu\",\"Li Xiao\",\"Alpha Films\",\"La Sept C...   \n",
       "6     [\"Chris Marker\",\"David Webb Peoples\",\"Universa...   \n",
       "7     [\"Dick King-Smith\",\"George Miller\",\"Universal ...   \n",
       "8     [\"Helen Prejean\",\"Tim Robbins\",\"Havoc\",\"Polygr...   \n",
       "9     [\"William Shakespeare\",\"Ian McKellen\",\"Mayfair...   \n",
       "10    [\"Andrew Kevin Walker\",\"Cecchi Gori Pictures\",...   \n",
       "11    [\"Christopher McQuarrie\",\"PolyGram Filmed Ente...   \n",
       "12    [\"Woody Allen\",\"Sweetland Films\",\"Magnolia Pic...   \n",
       "13    [\"Antonio Skármeta\",\"Furio Scarpelli\",\"Cecchi ...   \n",
       "14    [\"Patrick Sheane Duncan\",\"Hollywood Pictures\",...   \n",
       "15    [\"Patrick Aubrée\",\"Josiane Balasko\",\"Canal+\",\"...   \n",
       "16    [\"Robert Kurtzman\",\"Quentin Tarantino\",\"Dimens...   \n",
       "17    [\"Abbas Kiarostami\",\"Jafar Panahi\",\"Ferdos Fil...   \n",
       "18    [\"Marleen Gorris\",\"Bergen\",\"Prime Time\",\"Bard ...   \n",
       "19    [\"A.S. Byatt\",\"Belinda Haas\",\"Playhouse Intern...   \n",
       "20    [\"Robert Louis Stevenson\",\"Jerry Juhl\",\"Jim He...   \n",
       "21    [\"Randall Wallace\",\"Icon Entertainment Interna...   \n",
       "22    [\"Paul Schrader\",\"Columbia Pictures Corporatio...   \n",
       "23    [\"Edward Tang\",\"Fibe Ma\",\"Golden Harvest Compa...   \n",
       "24     [\"Jean Poiret\",\"Francis Veber\",\"United Artists\"]   \n",
       "25    [\"Edward Burns\",\"Brothers McMullen Productions...   \n",
       "26    [\"George Gallo\",\"Michael Barrie\",\"Don Simpson/...   \n",
       "27    [\"Jim Lovell\",\"Jeffrey Kluger\",\"Universal Pict...   \n",
       "28    [\"Bob Kane\",\"Lee Batchler\",\"Warner Bros.\",\"Pol...   \n",
       "29    [\"Joseph Kessel\",\"Luis Buñuel\",\"Robert et Raym...   \n",
       "...                                                 ...   \n",
       "1617  [\"HBO Independent Productions\",\"You So Crazy P...   \n",
       "1618  [\"Hans-Ulrich Klenner\",\"Walter Saxer\",\"Sera Fi...   \n",
       "1619  [\"James Duff\",\"James Duff\",\"Motion Picture Cor...   \n",
       "1620                                     [\"Tom Noonan\"]   \n",
       "1621    [\"André Gide\",\"Jean Aurenche\",\"Les Films Gibé\"]   \n",
       "1622  [\"J.F. Lawton\",\"Universal Pictures\",\"Davis Ent...   \n",
       "1623  [\"Rysher Entertainment\",\"Savoy Pictures\",\"Toll...   \n",
       "1624  [\"Bill Forsyth\",\"Warner Bros.\",\"Enigma Product...   \n",
       "1625  [\"Ron Ford\",\"Ron Ford\",\"A-Pix Entertainment\",\"...   \n",
       "1626  [\"Preston A. Whitmore II\",\"Savoy Pictures\",\"Pr...   \n",
       "1627  [\"Sherwood Schwartz\",\"Sherwood Schwartz\",\"Redw...   \n",
       "1628  [\"Jim Thompson\",\"Walter Hill\",\"Universal Pictu...   \n",
       "1629  [\"Tim Sullivan\",\"British Screen Productions\",\"...   \n",
       "1630  [\"Bryan Gordon\",\"Fine Line Features\",\"New Line...   \n",
       "1631        [\"Jeb Stuart\",\"David Twohy\",\"Warner Bros.\"]   \n",
       "1632  [\"Ming-liang Tsai\",\"Yi-chun Tsai\",\"Central Mot...   \n",
       "1633  [\"Gérard Brach\",\"Eric Rochant\",\"Les Production...   \n",
       "1634  [\"Manoel de Oliveira\",\"Agustina Bessa-Luís\",\"M...   \n",
       "1635  [\"Clare Boothe Luce\",\"Anita Loos\",\"Metro-Goldw...   \n",
       "1636  [\"Jacques Demy\",\"Parc Film\",\"Madeleine Films\",...   \n",
       "1637  [\"Nick Villiers\",\"Bob Rafelson\",\"Recorded Pict...   \n",
       "1638  [\"Jean-Claude Carrière\",\"Janet Lewis\",\"S.F.P.C...   \n",
       "1639  [\"Leslie Megahey\",\"British Broadcasting Corpor...   \n",
       "1640   [\"Leigh Brackett\",\"Lawrence Kasdan\",\"Lucasfilm\"]   \n",
       "1641  [\"Jean-Claude Carrière\",\"Nina Companeez\",\"Hach...   \n",
       "1642        [\"Pedro Almodóvar\",\"CiBy 2000\",\"Deseo, El\"]   \n",
       "1643  [\"Irakli Kvirikadze\",\"André Graill\",\"Les Films...   \n",
       "1644  [\"Robert Coover\",\"Guy Ferland\",\"Spelling Films...   \n",
       "1645             [\"Direction du Cinema de Haute Volta\"]   \n",
       "1646  [\"Roald Dahl\",\"Roald Dahl\",\"Wolper Pictures Lt...   \n",
       "\n",
       "                                             actor_list  \\\n",
       "0     [\"Tom Hanks\",\"Tim Allen\",\"Don Rickles\",\"Jim Va...   \n",
       "1     [\"Pierce Brosnan\",\"Sean Bean\",\"Izabella Scorup...   \n",
       "2     [\"Sammi Davis\",\"Amanda De Cadenet\",\"Valeria Go...   \n",
       "3     [\"John Travolta\",\"Gene Hackman\",\"Rene Russo\",\"...   \n",
       "4     [\"Sigourney Weaver\",\"Holly Hunter\",\"Dermot Mul...   \n",
       "5     [\"Li Gong\",\"Baotian Li\",\"Xiaoxiao Wang\",\"Xueji...   \n",
       "6     [\"Joseph Melito\",\"Bruce Willis\",\"Jon Seda\",\"Mi...   \n",
       "7     [\"Christine Cavanaugh\",\"Miriam Margolyes\",\"Dan...   \n",
       "8     [\"Susan Sarandon\",\"Sean Penn\",\"Robert Prosky\",...   \n",
       "9     [\"Ian McKellen\",\"Annette Bening\",\"Jim Broadben...   \n",
       "10    [\"Morgan Freeman\",\"Andrew Kevin Walker\",\"Kevin...   \n",
       "11    [\"Stephen Baldwin\",\"Gabriel Byrne\",\"Benicio De...   \n",
       "12    [\"Pamela Blair\",\"Rene Ceballos\",\"Elie Chaib\",\"...   \n",
       "13    [\"Philippe Noiret\",\"Massimo Troisi\",\"Maria Gra...   \n",
       "14    [\"Richard Dreyfuss\",\"Glenne Headly\",\"Jay Thoma...   \n",
       "15    [\"Victoria Abril\",\"Josiane Balasko\",\"Alain Cha...   \n",
       "16    [\"George Clooney\",\"Quentin Tarantino\",\"Harvey ...   \n",
       "17    [\"Aida Mohammadkhani\",\"Mohsen Kafili\",\"Feresht...   \n",
       "18    [\"Willeke van Ammelrooy\",\"Els Dottermans\",\"Dor...   \n",
       "19    [\"Mark Rylance\",\"Kristin Scott Thomas\",\"Patsy ...   \n",
       "20    [\"Tim Curry\",\"Billy Connolly\",\"Jennifer Saunde...   \n",
       "21    [\"James Robinson\",\"Sean Lawlor\",\"Sandy Nelson\"...   \n",
       "22    [\"Diahnne Abbott\",\"Frank Adu\",\"Victor Argo\",\"G...   \n",
       "23    [\"Jackie Chan\",\"Anita Mui\",\"Françoise Yip\",\"Bi...   \n",
       "24    [\"Robin Williams\",\"Gene Hackman\",\"Nathan Lane\"...   \n",
       "25    [\"Shari Albert\",\"Maxine Bahns\",\"Catharine Bolz...   \n",
       "26    [\"Lisa Boyle\",\"Will Smith\",\"Martin Lawrence\",\"...   \n",
       "27    [\"Tom Hanks\",\"Bill Paxton\",\"Kevin Bacon\",\"Gary...   \n",
       "28    [\"Val Kilmer\",\"Tommy Lee Jones\",\"Jim Carrey\",\"...   \n",
       "29    [\"Catherine Deneuve\",\"Jean Sorel\",\"Michel Picc...   \n",
       "...                                                 ...   \n",
       "1617                                [\"Martin Lawrence\"]   \n",
       "1618  [\"Vittorio Mezzogiorno\",\"Stefan Glowacz\",\"Math...   \n",
       "1619  [\"Emilio Estevez\",\"Kathy Bates\",\"Martin Sheen\"...   \n",
       "1620  [\"Julie Hagerty\",\"Tom Noonan\",\"Wallace Shawn\",...   \n",
       "1621  [\"Michèle Morgan\",\"Pierre Blanchar\",\"Line Noro...   \n",
       "1622  [\"Christopher Lambert\",\"John Lone\",\"Joan Chen\"...   \n",
       "1623  [\"Afrika Bambaataa\",\"Kurtis Blow\",\"Sean Combs\"...   \n",
       "1624  [\"Robin Williams\",\"Kelly Hunter\",\"Maudie Johns...   \n",
       "1625  [\"Eddie Bowz\",\"Heather Medway\",\"Ann Turkel\",\"V...   \n",
       "1626  [\"Allen Payne\",\"Eddie Griffin\",\"Joe Morton\",\"V...   \n",
       "1627  [\"Bob Denver\",\"Alan Hale Jr.\",\"Jim Backus\",\"Na...   \n",
       "1628  [\"Alec Baldwin\",\"Kim Basinger\",\"Michael Madsen...   \n",
       "1629  [\"Richard E. Grant\",\"Samantha Mathis\",\"Judi De...   \n",
       "1630  [\"Josh Charles\",\"Anne Heche\",\"John Goodman\",\"C...   \n",
       "1631  [\"Harrison Ford\",\"Tommy Lee Jones\",\"Sela Ward\"...   \n",
       "1632  [\"Chao-jung Chen\",\"Kang-sheng Lee\",\"Kuei-Mei Y...   \n",
       "1633  [\"Charlotte Gainsbourg\",\"Gérard Lanvin\",\"Sami ...   \n",
       "1634  [\"Catherine Deneuve\",\"John Malkovich\",\"Luís Mi...   \n",
       "1635  [\"Norma Shearer\",\"Joan Crawford\",\"Rosalind Rus...   \n",
       "1636  [\"Catherine Deneuve\",\"Nino Castelnuovo\",\"Anne ...   \n",
       "1637  [\"Jack Nicholson\",\"Stephen Dorff\",\"Jennifer Lo...   \n",
       "1638  [\"Gérard Depardieu\",\"Nathalie Baye\",\"Maurice B...   \n",
       "1639  [\"Colin Firth\",\"Ian Holm\",\"Donald Pleasence\",\"...   \n",
       "1640  [\"Mark Hamill\",\"Harrison Ford\",\"Carrie Fisher\"...   \n",
       "1641  [\"Juliette Binoche\",\"Olivier Martinez\",\"Pierre...   \n",
       "1642  [\"Marisa Paredes\",\"Juan Echanove\",\"Carme Elias...   \n",
       "1643  [\"Pierre Richard\",\"Micheline Presle\",\"Nino Kir...   \n",
       "1644  [\"Alicia Silverstone\",\"Jeremy London\",\"J.T. Wa...   \n",
       "1645  [\"Serge Yanogo\",\"Rosine Yanogo\",\"Joseph Nikiem...   \n",
       "1646  [\"Gene Wilder\",\"Jack Albertson\",\"Peter Ostrum\"...   \n",
       "\n",
       "                                                  genre release_date  ones  \n",
       "0     [\" Animation\",\" Adventure\",\" Comedy\",\" Family\"...   1995-11-22     1  \n",
       "1                  [\" Action\",\" Adventure\",\" Thriller\"]   1995-11-17     1  \n",
       "2                                           [\" Comedy\"]   1995-12-25     1  \n",
       "3                      [\" Comedy\",\" Crime\",\" Thriller\"]   1995-10-20     1  \n",
       "4            [\" Crime\",\" Drama\",\" Mystery\",\" Thriller\"]   1995-10-27     1  \n",
       "5            [\" Crime\",\" Drama\",\" Romance\",\" Thriller\"]   1995-11-08     1  \n",
       "6                    [\" Mystery\",\" Sci-Fi\",\" Thriller\"]   1996-01-05     1  \n",
       "7                        [\" Comedy\",\" Drama\",\" Family\"]   1995-08-04     1  \n",
       "8                                   [\" Crime\",\" Drama\"]   1996-02-02     1  \n",
       "9                                     [\" Drama\",\" War\"]   1995-12-29     1  \n",
       "10           [\" Crime\",\" Drama\",\" Mystery\",\" Thriller\"]   1995-09-22     1  \n",
       "11           [\" Crime\",\" Drama\",\" Mystery\",\" Thriller\"]   1995-09-15     1  \n",
       "12                    [\" Comedy\",\" Fantasy\",\" Romance\"]   1995-11-10     1  \n",
       "13         [\" Biography\",\" Comedy\",\" Drama\",\" Romance\"]   1994-09-22     1  \n",
       "14                                  [\" Drama\",\" Music\"]   1996-01-19     1  \n",
       "15                                          [\" Comedy\"]   1995-02-08     1  \n",
       "16                       [\" Action\",\" Crime\",\" Horror\"]   1996-01-19     1  \n",
       "17                                 [\" Drama\",\" Family\"]   1995-11-27     1  \n",
       "18                                 [\" Comedy\",\" Drama\"]   1995-09-21     1  \n",
       "19                                [\" Drama\",\" Romance\"]   1995-12-08     1  \n",
       "20    [\" Action\",\" Adventure\",\" Comedy\",\" Family\",\" ...   1996-02-16     1  \n",
       "21            [\" Biography\",\" Drama\",\" History\",\" War\"]   1995-05-24     1  \n",
       "22                                  [\" Crime\",\" Drama\"]   1976-02-08     1  \n",
       "23           [\" Action\",\" Comedy\",\" Crime\",\" Thriller\"]   1995-01-21     1  \n",
       "24                                          [\" Comedy\"]   1996-03-08     1  \n",
       "25                      [\" Comedy\",\" Drama\",\" Romance\"]   1995-08-09     1  \n",
       "26    [\" Action\",\" Comedy\",\" Crime\",\" Drama\",\" Thril...   1995-04-07     1  \n",
       "27                   [\" Adventure\",\" Drama\",\" History\"]   1995-06-30     1  \n",
       "28       [\" Action\",\" Adventure\",\" Fantasy\",\" Romance\"]   1995-08-15     1  \n",
       "29                                           [\" Drama\"]   1967-05-24     1  \n",
       "...                                                 ...          ...   ...  \n",
       "1617                         [\" Documentary\",\" Comedy\"]   1994-04-27     1  \n",
       "1618                                         [\" Drama\"]   1991-10-03     1  \n",
       "1619                                         [\" Drama\"]   1996-11-20     1  \n",
       "1620                               [\" Comedy\",\" Drama\"]   1996-08-16     1  \n",
       "1621                                         [\" Drama\"]   1946-09-26     1  \n",
       "1622                   [\" Action\",\" Drama\",\" Thriller\"]   1995-02-24     1  \n",
       "1623                          [\" Documentary\",\" Music\"]   1995-08-25     1  \n",
       "1624                               [\" Comedy\",\" Drama\"]   1994-05-06     1  \n",
       "1625                                        [\" Horror\"]   1995-01-20     1  \n",
       "1626                                  [\" Drama\",\" War\"]   1995-02-24     1  \n",
       "1627                                        [\" Comedy\"]   1978-10-14     1  \n",
       "1628  [\" Action\",\" Adventure\",\" Crime\",\" Drama\",\" Ro...   1994-02-11     1  \n",
       "1629                    [\" Comedy\",\" Drama\",\" Romance\"]   1995-06-02     1  \n",
       "1630                             [\" Comedy\",\" Romance\"]   1996-02-09     1  \n",
       "1631  [\" Action\",\" Crime\",\" Drama\",\" Mystery\",\" Thri...   1993-08-06     1  \n",
       "1632                                         [\" Drama\"]   1994-11-18     1  \n",
       "1633                  [\" Drama\",\" Mystery\",\" Thriller\"]   1996-10-02     1  \n",
       "1634                              [\" Drama\",\" Mystery\"]   1995-09-06     1  \n",
       "1635                               [\" Comedy\",\" Drama\"]   1939-09-01     1  \n",
       "1636                   [\" Drama\",\" Musical\",\" Romance\"]   1964-02-19     1  \n",
       "1637                    [\" Crime\",\" Drama\",\" Thriller\"]   1997-02-21     1  \n",
       "1638  [\" Biography\",\" Crime\",\" Drama\",\" History\",\" M...   1982-05-14     1  \n",
       "1639          [\" Crime\",\" Drama\",\" History\",\" Mystery\"]   1994-01-21     1  \n",
       "1640      [\" Action\",\" Adventure\",\" Fantasy\",\" Sci-Fi\"]   1980-06-20     1  \n",
       "1641          [\" Adventure\",\" Drama\",\" Romance\",\" War\"]   1995-09-20     1  \n",
       "1642                                         [\" Drama\"]   1995-09-22     1  \n",
       "1643                             [\" Comedy\",\" Romance\"]         1996     1  \n",
       "1644                             [\" Drama\",\" Thriller\"]   1995-10-17     1  \n",
       "1645                                         [\" Drama\"]   1983-03-27     1  \n",
       "1646                  [\" Family\",\" Fantasy\",\" Musical\"]   1971-06-30     1  \n",
       "\n",
       "[1647 rows x 9 columns]"
      ]
     },
     "execution_count": 8,
     "metadata": {},
     "output_type": "execute_result"
    }
   ],
   "source": [
    "movie_data"
   ]
  },
  {
   "cell_type": "code",
   "execution_count": null,
   "metadata": {
    "collapsed": true
   },
   "outputs": [],
   "source": []
  }
 ],
 "metadata": {
  "anaconda-cloud": {},
  "kernelspec": {
   "display_name": "Python [conda env:gl-env]",
   "language": "python",
   "name": "conda-env-gl-env-py"
  },
  "language_info": {
   "codemirror_mode": {
    "name": "ipython",
    "version": 2
   },
   "file_extension": ".py",
   "mimetype": "text/x-python",
   "name": "python",
   "nbconvert_exporter": "python",
   "pygments_lexer": "ipython2",
   "version": "2.7.11"
  }
 },
 "nbformat": 4,
 "nbformat_minor": 1
}
