{
 "cells": [
  {
   "cell_type": "code",
   "execution_count": 1,
   "metadata": {
    "collapsed": true
   },
   "outputs": [],
   "source": [
    "import pandas as pd"
   ]
  },
  {
   "cell_type": "code",
   "execution_count": 105,
   "metadata": {
    "collapsed": true
   },
   "outputs": [],
   "source": [
    "from lxml import html,etree\n",
    "import requests\n",
    "import pymongo\n",
    "from requests import ConnectionError\n",
    "import time\n",
    "import re"
   ]
  },
  {
   "cell_type": "code",
   "execution_count": 3,
   "metadata": {
    "collapsed": false
   },
   "outputs": [],
   "source": [
    "from pymongo import MongoClient\n",
    "client = MongoClient()\n",
    "db = client.test_database\n",
    "coll = db.test_collection"
   ]
  },
  {
   "cell_type": "code",
   "execution_count": 223,
   "metadata": {
    "collapsed": false
   },
   "outputs": [],
   "source": [
    "i_cols = ['movie id', 'movie title' ,'release date','video release date', 'IMDb URL', 'unknown', 'Action', 'Adventure',\n",
    " 'Animation', 'Children\\'s', 'Comedy', 'Crime', 'Documentary', 'Drama', 'Fantasy',\n",
    " 'Film-Noir', 'Horror', 'Musical', 'Mystery', 'Romance', 'Sci-Fi', 'Thriller', 'War', 'Western']\n",
    "items = pd.read_csv('ml-100k/u.item', sep='|', names=i_cols,\n",
    " encoding='latin-1')\n",
    "\n",
    "#items.head(8)"
   ]
  },
  {
   "cell_type": "code",
   "execution_count": 224,
   "metadata": {
    "collapsed": false
   },
   "outputs": [
    {
     "data": {
      "text/plain": [
       "pandas.core.series.Series"
      ]
     },
     "execution_count": 224,
     "metadata": {},
     "output_type": "execute_result"
    }
   ],
   "source": [
    "column_list = ['release_date','director','genre','creator','actor_list','_id']\n",
    "reqd_column = ['movie id','movie title','IMDb URL']\n",
    "reqd_movie_data = items[reqd_column]\n",
    "#reqd_movie_data.head(8)\n",
    "type(reqd_movie_data.loc[529])"
   ]
  },
  {
   "cell_type": "code",
   "execution_count": 225,
   "metadata": {
    "collapsed": false
   },
   "outputs": [
    {
     "name": "stdout",
     "output_type": "stream",
     "text": [
      "http://us.imdb.com/M/title-exact?Angel%20Baby%20(1995)\n",
      "done\n",
      "http://us.imdb.com/M/title-exact?Sudden%20Manhattan%20%281996%29\n",
      "done\n",
      "http://us.imdb.com/M/title-exact?Butcher%20Boy,%20The%20(1998)\n",
      "a\n",
      "/title/tt0118804/?ref_=fn_tt_tt_1\n",
      "new url: http://www.imdb.com/title/tt0118804\n",
      "done\n",
      "http://us.imdb.com/Title?Men+with+Guns+(1997/I)\n",
      "done\n",
      "http://us.imdb.com/Title?Hana-bi+(1997)\n",
      "done\n",
      "http://us.imdb.com/Title?Niagara,+Niagara+(1997)\n",
      "done\n",
      "http://us.imdb.com/Title?Big+One,+The+(1997)\n",
      "a\n",
      "/title/tt0124295/?ref_=fn_al_tt_1\n",
      "new url: http://www.imdb.com/title/tt0124295\n",
      "done\n",
      "http://us.imdb.com/M/title-exact?Butcher%20Boy,%20The%20(1998)\n",
      "a\n",
      "/title/tt0118804/?ref_=fn_tt_tt_1\n",
      "new url: http://www.imdb.com/title/tt0118804\n",
      "Duplicate Key Not InsertingButcher Boy, The (1998)\n",
      "http://us.imdb.com/Title?Spanish+Prisoner,+The+(1997)\n",
      "a\n",
      "/title/tt0120176/?ref_=fn_al_tt_1\n",
      "new url: http://www.imdb.com/title/tt0120176\n",
      "done\n",
      "http://us.imdb.com/M/title-exact?Feng%20Yue%20%281996%29\n",
      "a\n",
      "/title/tt0116295/?ref_=fn_tt_tt_1\n",
      "new url: http://www.imdb.com/title/tt0116295\n",
      "done\n",
      "http://us.imdb.com/M/title-exact?Entertaining%20Angels:%20The%20Dorothy%20Day%20Story%20(1996)\n",
      "done\n",
      "http://us.imdb.com/Title?Chairman+of+the+Board+(1998)\n",
      "Duplicate Key Not InsertingChairman of the Board (1998)\n",
      "http://us.imdb.com/M/title-exact?Favor,%20The%20(1994)\n",
      "a\n",
      "/title/tt0109783/?ref_=fn_tt_tt_1\n",
      "new url: http://www.imdb.com/title/tt0109783\n",
      "done\n",
      "http://us.imdb.com/M/title-exact?Little+City+(1998)\n",
      "a\n",
      "/title/tt0119548/?ref_=fn_tt_tt_1\n",
      "new url: http://www.imdb.com/title/tt0119548\n",
      "done\n",
      "http://us.imdb.com/M/title-exact?Target%20(1995)\n",
      "done\n",
      "http://us.imdb.com/M/title-exact?Substance%20of%20Fire,%20The%20(1996)\n",
      "a\n",
      "/title/tt0117773/?ref_=fn_tt_tt_1\n",
      "new url: http://www.imdb.com/title/tt0117773\n",
      "Duplicate Key Not InsertingSubstance of Fire, The (1996)\n",
      "http://us.imdb.com/Title?Getting+Away+With+Murder+(1996)\n",
      "a\n",
      "/title/tt0116405/?ref_=fn_al_tt_1\n",
      "new url: http://www.imdb.com/title/tt0116405\n",
      "done\n",
      "http://us.imdb.com/M/title-exact?Small%20Faces%20(1995)\n",
      "a\n",
      "/title/tt0114474/?ref_=fn_tt_tt_1\n",
      "new url: http://www.imdb.com/title/tt0114474\n",
      "done\n",
      "http://us.imdb.com/M/title-exact?New%20Age,%20The%20(1994)\n",
      "a\n",
      "/title/tt0110649/?ref_=fn_tt_tt_1\n",
      "new url: http://www.imdb.com/title/tt0110649\n",
      "done\n",
      "http://us.imdb.com/M/title-exact?Rough%20Magic%20%281995%29\n",
      "done\n",
      "http://us.imdb.com/M/title-exact?Nothing%20Personal%20(1995)\n",
      "done\n",
      "http://us.imdb.com/Title?8+Heads+in+a+Duffel+Bag+(1997)\n",
      "done\n",
      "http://us.imdb.com/M/title-exact?Brother%27s%20Kiss%2C%20A%20%281997%29\n",
      "a\n",
      "/title/tt0118783/?ref_=fn_tt_tt_1\n",
      "new url: http://www.imdb.com/title/tt0118783\n",
      "done\n",
      "http://us.imdb.com/M/title-exact?Ripe%20%281996%29\n",
      "done\n",
      "http://us.imdb.com/M/title-exact?Next%20Step%2C%20The%20%281995%29\n",
      "a\n",
      "/title/tt2374744/?ref_=fn_tt_tt_1\n",
      "new url: http://www.imdb.com/title/tt2374744\n",
      "done\n",
      "http://us.imdb.com/M/title-exact?Wedding%20Bell%20Blues%20%281996%29\n",
      "done\n",
      "http://us.imdb.com/M/title-exact?MURDER+and+murder+(1996)\n",
      "done\n",
      "http://us.imdb.com/M/title-exact?Tainted+(1998)\n",
      "done\n",
      "http://us.imdb.com/M/title-exact?Further+Gesture%2C+A+(1996)\n",
      "a\n",
      "/title/tt0116379/?ref_=fn_tt_tt_1\n",
      "new url: http://www.imdb.com/title/tt0116379\n",
      "done\n",
      "http://us.imdb.com/M/title-exact?Kika%20(1993)\n",
      "done\n",
      "http://us.imdb.com/M/title-exact?Mirage%20(1995)\n",
      "done\n",
      "http://us.imdb.com/M/title-exact?Mamma%20Roma%20(1962)\n",
      "done\n",
      "http://us.imdb.com/M/title-exact?Sunchaser,%20The%20(1996)\n",
      "a\n",
      "/title/tt0117781/?ref_=fn_tt_tt_1\n",
      "new url: http://www.imdb.com/title/tt0117781\n",
      "done\n",
      "http://us.imdb.com/M/title-exact?War%20at%20Home%2C%20The%20%281996%29\n",
      "a\n",
      "/title/tt0460692/?ref_=fn_tt_tt_1\n",
      "new url: http://www.imdb.com/title/tt0460692\n",
      "done\n",
      "http://us.imdb.com/M/title-exact?Sweet%20Nothing%20(1995)\n",
      "done\n",
      "http://us.imdb.com/M/title-exact?Mat%27+i+syn+(1997)\n",
      "Sending in 3 seconds\n",
      "a\n",
      "/title/tt0118141/?ref_=fn_tt_tt_1\n",
      "new url: http://www.imdb.com/title/tt0118141\n",
      "done\n",
      "http://us.imdb.com/M/title-exact?B%2E+Monkey+(1998)\n",
      "Sending in 3 seconds\n",
      "done\n",
      "http://us.imdb.com/Title?Sliding+Doors+(1998)\n",
      "Duplicate Key Not InsertingSliding Doors (1998)\n",
      "http://us.imdb.com/M/title-exact?You%20So%20Crazy%20(1994)\n",
      "done\n",
      "http://us.imdb.com/M/title-exact?Schrei%20aus%20Stein%20(1991)\n",
      "a\n",
      "/title/tt0102855/?ref_=fn_tt_tt_1\n",
      "new url: http://www.imdb.com/title/tt0102855\n",
      "done\n"
     ]
    }
   ],
   "source": [
    "for row in reqd_movie_data[1642:].iterrows():\n",
    "    url = row[1]['IMDb URL']\n",
    "    m = re.search('imdb\\-title\\-\\d+',url)\n",
    "    if m:\n",
    "        url = 'http://us.imdb.com/M/title-exact?'+row[1]['movie title'].replace(' ','%20')\n",
    "    \n",
    "    try:\n",
    "        \n",
    "        print url\n",
    "        try:\n",
    "            page = requests.get(url,timeout = 8)\n",
    "        except ConnectionError:\n",
    "            print 'Sending in 3 seconds'\n",
    "            time.sleep(3)\n",
    "            page = requests.get(url,timeout = 8)\n",
    "        tree = html.fromstring(page.content)\n",
    "        director = tree.xpath('//span[@itemprop=\"director\"]//span[@itemprop=\"name\"]/text()')\n",
    "        genre = tree.xpath('//div[@itemprop=\"genre\"]/a/text()')\n",
    "        creator = tree.xpath('//span[@itemprop=\"creator\"]//span[@itemprop=\"name\"]/text()')\n",
    "        actor_list = tree.xpath('//table[@class=\"cast_list\"]//span[@itemprop=\"name\"]/text()')[:5] \n",
    "        _id = tree.xpath('//meta[@property=\"pageId\"]/@content')[0]\n",
    "        release_date = tree.xpath('//meta[@itemprop=\"datePublished\"]/@content')[0]\n",
    "    except IndexError:\n",
    "        if not ' in development ' in tree.xpath('//tr[@class=\"findResult odd\"][1]/td[@class=\"result_text\"]/text()') :\n",
    "            print 'a'\n",
    "            url = tree.xpath('//tr[@class=\"findResult odd\"][1]/td[@class=\"result_text\"]/a/@href')[0]\n",
    "            \n",
    "            print url\n",
    "        else:\n",
    "            url = tree.xpath('//tr[@class=\"findResult even\"][1]/td[last()]/a/@href')[0]\n",
    "            print 'b'\n",
    "            print url\n",
    "        u1 = url.rpartition('/')[0].rpartition('/')[-1]\n",
    "        url = 'http://www.imdb.com/title/'+u1\n",
    "        print 'new url:',url\n",
    "        try:\n",
    "            page = requests.get(url)\n",
    "        except ConnectionError:\n",
    "            print 'Sending in 3 seconds'\n",
    "            time.sleep(5)\n",
    "            page = requests.get(url)\n",
    "        tree = html.fromstring(page.content)\n",
    "        director = tree.xpath('//span[@itemprop=\"director\"]//span[@itemprop=\"name\"]/text()')\n",
    "        genre = tree.xpath('//div[@itemprop=\"genre\"]/a/text()')\n",
    "        creator = tree.xpath('//span[@itemprop=\"creator\"]//span[@itemprop=\"name\"]/text()')\n",
    "        actor_list = tree.xpath('//table[@class=\"cast_list\"]//span[@itemprop=\"name\"]/text()')[:5] \n",
    "        _id = tree.xpath('//meta[@property=\"pageId\"]/@content')[0]\n",
    "        release_date = tree.xpath('//meta[@itemprop=\"datePublished\"]/@content')[0]\n",
    "    \n",
    "    new_elem = dict([(i,eval(i)) for i in column_list])\n",
    "    #print new_elem\n",
    "    new_doc = dict(row[1].to_dict().items() + new_elem.items())\n",
    "    #print new_doc\n",
    "    try:\n",
    "        coll.insert_one(new_doc)\n",
    "    except pymongo.errors.DuplicateKeyError:\n",
    "        print 'Duplicate Key Not Inserting'+new_doc['movie title']\n",
    "        continue\n",
    "    print 'done'"
   ]
  },
  {
   "cell_type": "code",
   "execution_count": 226,
   "metadata": {
    "collapsed": false
   },
   "outputs": [
    {
     "name": "stdout",
     "output_type": "stream",
     "text": [
      "{u'movie id': 1682, u'creator': [u'Hans-Ulrich Klenner', u'Walter Saxer', u'Sera Filmproduktion', u'Mol\\xe9cule', u'Films A2'], u'actor_list': [u'Vittorio Mezzogiorno', u'Stefan Glowacz', u'Mathilda May', u'Al Waxman', u'Gunilla Karlzen'], u'release_date': u'1991-10-03', u'director': [u'Werner Herzog'], u'IMDb URL': u'http://us.imdb.com/M/title-exact?Schrei%20aus%20Stein%20(1991)', u'movie title': u'Scream of Stone (Schrei aus Stein) (1991)', u'genre': [u' Drama'], u'_id': u'tt0102855'}\n",
      "1652\n"
     ]
    }
   ],
   "source": [
    "print coll.find().sort('movie id',pymongo.DESCENDING)[0]\n",
    "print coll.count()"
   ]
  },
  {
   "cell_type": "code",
   "execution_count": 34,
   "metadata": {
    "collapsed": false
   },
   "outputs": [],
   "source": [
    "test_movie = {'_id':items.loc[4,'movie id'],\n",
    "             'movie_title':items.loc[4,'movie title'],\n",
    "             'release_date':items.loc[4,'release date'],\n",
    "             'director':director,\n",
    "             'genre':genre,\n",
    "             'creator':creator,\n",
    "             'actor_list':actor_list,\n",
    "             'imdb_id':imdb_id}"
   ]
  },
  {
   "cell_type": "code",
   "execution_count": 19,
   "metadata": {
    "collapsed": false
   },
   "outputs": [
    {
     "data": {
      "text/plain": [
       "{u'IMDb URL': u'http://us.imdb.com/M/title-exact?Toy%20Story%20(1995)',\n",
       " u'_id': u'tt0114709',\n",
       " u'actor_list': [u'Tom Hanks',\n",
       "  u'Tim Allen',\n",
       "  u'Don Rickles',\n",
       "  u'Jim Varney',\n",
       "  u'Wallace Shawn'],\n",
       " u'creator': [u'John Lasseter',\n",
       "  u'Pete Docter',\n",
       "  u'Pixar Animation Studios',\n",
       "  u'Walt Disney Pictures'],\n",
       " u'director': [u'John Lasseter'],\n",
       " u'genre': [u' Animation', u' Adventure', u' Comedy', u' Family', u' Fantasy'],\n",
       " u'movie id': 1,\n",
       " u'movie title': u'Toy Story (1995)',\n",
       " u'release_date': u'1995-11-22'}"
      ]
     },
     "execution_count": 19,
     "metadata": {},
     "output_type": "execute_result"
    }
   ],
   "source": [
    "coll.find_one()"
   ]
  },
  {
   "cell_type": "code",
   "execution_count": 49,
   "metadata": {
    "collapsed": false
   },
   "outputs": [
    {
     "data": {
      "text/plain": [
       "\"'hfbf'\""
      ]
     },
     "execution_count": 49,
     "metadata": {},
     "output_type": "execute_result"
    }
   ],
   "source": [
    "a = \"'hfbf'\"\n",
    "x = 'a'\n",
    "eval(x)"
   ]
  },
  {
   "cell_type": "code",
   "execution_count": 77,
   "metadata": {
    "collapsed": false
   },
   "outputs": [
    {
     "name": "stdout",
     "output_type": "stream",
     "text": [
      "25\n"
     ]
    }
   ],
   "source": [
    "column_list = ['release_date','director','genre','creator','actor_list','_id']\n",
    "del_post = coll.delete_many({})\n",
    "print del_post.deleted_count"
   ]
  }
 ],
 "metadata": {
  "anaconda-cloud": {},
  "kernelspec": {
   "display_name": "Python [conda env:gl-env]",
   "language": "python",
   "name": "conda-env-gl-env-py"
  },
  "language_info": {
   "codemirror_mode": {
    "name": "ipython",
    "version": 2
   },
   "file_extension": ".py",
   "mimetype": "text/x-python",
   "name": "python",
   "nbconvert_exporter": "python",
   "pygments_lexer": "ipython2",
   "version": "2.7.11"
  }
 },
 "nbformat": 4,
 "nbformat_minor": 1
}
